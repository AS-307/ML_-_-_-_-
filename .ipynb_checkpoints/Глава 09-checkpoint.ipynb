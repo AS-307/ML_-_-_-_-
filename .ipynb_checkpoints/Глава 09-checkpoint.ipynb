{
 "cells": [
  {
   "cell_type": "markdown",
   "metadata": {},
   "source": [
    "# Глава 9. \n",
    "## Снижение размерности с помощью выделения признаков\n",
    "> <b>9.1 Снижение признаков с помощью главных компонент"
   ]
  },
  {
   "cell_type": "code",
   "execution_count": 1,
   "metadata": {},
   "outputs": [
    {
     "name": "stdout",
     "output_type": "stream",
     "text": [
      "Исходное количество признаков: 64\n",
      "Сокращенное количество признаков: 54\n"
     ]
    }
   ],
   "source": [
    "# Загрузить библиотеки\n",
    "from sklearn.preprocessing import StandardScaler\n",
    "from sklearn.decomposition import PCA\n",
    "from sklearn import datasets\n",
    "\n",
    "# Загрузить данные\n",
    "digits = datasets.load_digits()\n",
    "\n",
    "# Стандартизировать матрицу признаков\n",
    "features = StandardScaler().fit_transform(digits.data)\n",
    "\n",
    "# Соззать объект PCA, который сохранит 99% дисперсии\n",
    "pca = PCA(n_components=0.99, whiten=True)\n",
    "\n",
    "# Выполнить анализ PCA\n",
    "features_pca = pca.fit_transform(features)\n",
    "\n",
    "# Показать результаты\n",
    "print(\"Исходное количество признаков:\", features.shape[1])\n",
    "print(\"Сокращенное количество признаков:\", features_pca.shape[1])"
   ]
  },
  {
   "cell_type": "markdown",
   "metadata": {},
   "source": [
    "> <b>9.2 Уменьшение количества признаков, когда данные линейно неразделимы"
   ]
  },
  {
   "cell_type": "code",
   "execution_count": 2,
   "metadata": {},
   "outputs": [
    {
     "name": "stdout",
     "output_type": "stream",
     "text": [
      "Исходное количество признаков: 2\n",
      "Сокращенное количество признаков: 1\n"
     ]
    }
   ],
   "source": [
    "# Загрузить библиотеки\n",
    "from sklearn.decomposition import PCA, KernelPCA\n",
    "from sklearn.datasets import make_circles\n",
    "\n",
    "# Создать линейно неразделимые данные\n",
    "features, _ = make_circles(n_samples=1000, random_state=1, \n",
    "                           noise=0.1, factor=0.1)\n",
    "\n",
    "# Применить ядерный PCA \n",
    "# с радиально-базисным функциональным ядром (RBF-ядром)\n",
    "kpca = KernelPCA(kernel=\"rbf\", gamma=15, n_components=1)\n",
    "features_kpca = kpca.fit_transform(features)\n",
    "\n",
    "print(\"Исходное количество признаков:\", features.shape[1])\n",
    "print(\"Сокращенное количество признаков:\", features_kpca.shape[1])"
   ]
  },
  {
   "cell_type": "markdown",
   "metadata": {},
   "source": [
    "> <b>9.3 Уменьшение количества признаков путем максимизации разделимости классов"
   ]
  },
  {
   "cell_type": "code",
   "execution_count": 3,
   "metadata": {},
   "outputs": [
    {
     "name": "stdout",
     "output_type": "stream",
     "text": [
      "Исходное количество признаков: 4\n",
      "Сокращенное количество признаков: 1\n"
     ]
    }
   ],
   "source": [
    "# Загрузить библиотеки\n",
    "from sklearn import datasets\n",
    "from sklearn.discriminant_analysis import LinearDiscriminantAnalysis\n",
    "\n",
    "# Загрузить набор данных цветков ириса:\n",
    "iris = datasets.load_iris()\n",
    "features = iris.data\n",
    "target = iris.target\n",
    "\n",
    "# Создать объект и выполнить LDA, затем использовать\n",
    "# его для преобразования признаков\n",
    "lda = LinearDiscriminantAnalysis(n_components=1)\n",
    "features_lda = lda.fit(features, target).transform(features)\n",
    "\n",
    "# Напечатать количество признаков\n",
    "print(\"Исходное количество признаков:\", features.shape[1])\n",
    "print(\"Сокращенное количество признаков:\", features_lda.shape[1])"
   ]
  },
  {
   "cell_type": "code",
   "execution_count": 4,
   "metadata": {},
   "outputs": [
    {
     "data": {
      "text/plain": [
       "array([0.99147248])"
      ]
     },
     "execution_count": 4,
     "metadata": {},
     "output_type": "execute_result"
    }
   ],
   "source": [
    "lda.explained_variance_ratio_"
   ]
  },
  {
   "cell_type": "code",
   "execution_count": 6,
   "metadata": {},
   "outputs": [
    {
     "data": {
      "text/plain": [
       "1"
      ]
     },
     "execution_count": 6,
     "metadata": {},
     "output_type": "execute_result"
    }
   ],
   "source": [
    "# Создать объект и выполнить LDA\n",
    "lda = LinearDiscriminantAnalysis(n_components=None)\n",
    "features_lda = lda.fit(features, target)\n",
    "\n",
    "# Создать массив коэффициентов объясненной дисперсии\n",
    "lda_var_ratios = lda.explained_variance_ratio_\n",
    "\n",
    "# Создать функцию\n",
    "def select_n_components(var_ratio, goal_var: float) -> int:\n",
    "    # Задать исходную обясненную на данный момент дисперсию\n",
    "    total_variance = 0.0\n",
    "\n",
    "    # Задать исходное количество признаков\n",
    "    n_components = 0\n",
    "\n",
    "    # Для объясненной дисперсии каждого признака:\n",
    "    for explained_variance in var_ratio:\n",
    "\n",
    "        # Добавить объясненную дисперсию к итогу\n",
    "        total_variance += explained_variance\n",
    "\n",
    "        # Добавить единицу к количеству компонент\n",
    "        n_components += 1\n",
    "\n",
    "        # Если достигнут целевой уровень объясненной дисперсии\n",
    "        if total_variance >= goal_var:\n",
    "            # Завершить цикл\n",
    "            break\n",
    "\n",
    "    # Вернуть количество компонент\n",
    "    return n_components\n",
    "\n",
    "# Выполнить функцию\n",
    "select_n_components(lda_var_ratios, 0.95)"
   ]
  },
  {
   "cell_type": "markdown",
   "metadata": {},
   "source": [
    "> <b>9.4 Уменьшение количества признаков с использованием разложения матрицы"
   ]
  },
  {
   "cell_type": "code",
   "execution_count": 7,
   "metadata": {},
   "outputs": [
    {
     "name": "stdout",
     "output_type": "stream",
     "text": [
      "Исходное количество признаков: 64\n",
      "Сокращенное количество признаков: 10\n"
     ]
    }
   ],
   "source": [
    "# Загрузить библиотеки\n",
    "from sklearn.decomposition import NMF\n",
    "from sklearn import datasets\n",
    "\n",
    "# Загрузить данные\n",
    "digits = datasets.load_digits()\n",
    "\n",
    "# Загрузить матрицу признаков\n",
    "features = digits.data\n",
    "\n",
    "# Создать, выполнить подгонку и применить NMF\n",
    "nmf = NMF(n_components=10, random_state=1)\n",
    "features_nmf = nmf.fit_transform(features)\n",
    "\n",
    "# Показать результаты\n",
    "print(\"Исходное количество признаков:\", features.shape[1])\n",
    "print(\"Сокращенное количество признаков:\", features_nmf.shape[1])"
   ]
  },
  {
   "cell_type": "markdown",
   "metadata": {},
   "source": [
    "> <b>9.5 Уменьшение количества признаков на разряженных данных"
   ]
  },
  {
   "cell_type": "code",
   "execution_count": 8,
   "metadata": {},
   "outputs": [
    {
     "name": "stdout",
     "output_type": "stream",
     "text": [
      "Исходное количество признаков: 64\n",
      "Сокращенное количество признаков: 10\n"
     ]
    }
   ],
   "source": [
    "# Загрузить библиотеки\n",
    "from sklearn.preprocessing import StandardScaler\n",
    "from sklearn.decomposition import TruncatedSVD\n",
    "from scipy.sparse import csr_matrix\n",
    "from sklearn import datasets\n",
    "import numpy as np\n",
    "\n",
    "# Загрузить данные\n",
    "digits = datasets.load_digits()\n",
    "\n",
    "# Стандартизировать матрицу признаков\n",
    "features = StandardScaler().fit_transform(digits.data)\n",
    "\n",
    "# Сделать разряженную матрицу \n",
    "features_sparse = csr_matrix(features)\n",
    "\n",
    "# Создать объект TSVD\n",
    "tsvd = TruncatedSVD(n_components=10)\n",
    "\n",
    "# Выполнить TSVD на разряженной матрице\n",
    "features_sparse_tsvd = tsvd.fit(features_sparse).transform(features_sparse)\n",
    "\n",
    "# Показать результаты\n",
    "print(\"Исходное количество признаков:\", features_sparse.shape[1])\n",
    "print(\"Сокращенное количество признаков:\", features_sparse_tsvd.shape[1])"
   ]
  },
  {
   "cell_type": "code",
   "execution_count": 9,
   "metadata": {},
   "outputs": [
    {
     "data": {
      "text/plain": [
       "0.3003938538187104"
      ]
     },
     "execution_count": 9,
     "metadata": {},
     "output_type": "execute_result"
    }
   ],
   "source": [
    "# Суммировать коэффициенты объясненной дисперсии первых трех компонент\n",
    "tsvd.explained_variance_ratio_[0:3].sum()"
   ]
  },
  {
   "cell_type": "code",
   "execution_count": 10,
   "metadata": {},
   "outputs": [
    {
     "data": {
      "text/plain": [
       "40"
      ]
     },
     "execution_count": 10,
     "metadata": {},
     "output_type": "execute_result"
    }
   ],
   "source": [
    "# Создать и выполнить TSVD с числом признаков меньше на единицу\n",
    "tsvd = TruncatedSVD(n_components=features_sparse.shape[1]-1)\n",
    "features_tsvd = tsvd.fit(features)\n",
    "\n",
    "# Поместиь в список объясненные дисперсии\n",
    "tsvd_var_ratios = tsvd.explained_variance_ratio_\n",
    "\n",
    "# Создать функцию\n",
    "def select_n_components(var_ratio, goal_var):\n",
    "    # Задать исходную обясненную на данный момент дисперсию\n",
    "    total_variance = 0.0\n",
    "\n",
    "    # Задать исходное количество признаков\n",
    "    n_components = 0\n",
    "\n",
    "    # Для объясненной дисперсии каждого признака:\n",
    "    for explained_variance in var_ratio:\n",
    "\n",
    "        # Добавить объясненную дисперсию к итогу\n",
    "        total_variance += explained_variance\n",
    "\n",
    "        # Добавить единицу к количеству компонент\n",
    "        n_components += 1\n",
    "\n",
    "        # Если достигнут целевой уровень объясненной дисперсии\n",
    "        if total_variance >= goal_var:\n",
    "            # Завершить цикл\n",
    "            break\n",
    "\n",
    "    # Вернуть количество компонент\n",
    "    return n_components\n",
    "\n",
    "# Выполнить функцию\n",
    "select_n_components(tsvd_var_ratios, 0.95)"
   ]
  },
  {
   "cell_type": "code",
   "execution_count": null,
   "metadata": {},
   "outputs": [],
   "source": []
  }
 ],
 "metadata": {
  "kernelspec": {
   "display_name": "Python 3",
   "language": "python",
   "name": "python3"
  },
  "language_info": {
   "codemirror_mode": {
    "name": "ipython",
    "version": 3
   },
   "file_extension": ".py",
   "mimetype": "text/x-python",
   "name": "python",
   "nbconvert_exporter": "python",
   "pygments_lexer": "ipython3",
   "version": "3.6.4"
  }
 },
 "nbformat": 4,
 "nbformat_minor": 2
}
