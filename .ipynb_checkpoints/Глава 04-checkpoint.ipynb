{
 "cells": [
  {
   "cell_type": "markdown",
   "metadata": {},
   "source": [
    "# Глава 4. \n",
    "## Работа с числовыми данными\n",
    "> <b>4.1 Шкалирование признака"
   ]
  },
  {
   "cell_type": "code",
   "execution_count": 1,
   "metadata": {},
   "outputs": [
    {
     "data": {
      "text/plain": [
       "array([[0.        ],\n",
       "       [0.28571429],\n",
       "       [0.35714286],\n",
       "       [0.42857143],\n",
       "       [1.        ]])"
      ]
     },
     "execution_count": 1,
     "metadata": {},
     "output_type": "execute_result"
    }
   ],
   "source": [
    "# Загрузить библиотеки \n",
    "import numpy as np\n",
    "from sklearn import preprocessing\n",
    "\n",
    "# Создать признак\n",
    "feature = np.array([[-500.5],\n",
    "                    [-100.1],\n",
    "                    [0],\n",
    "                    [100.1],\n",
    "                    [900.9]])\n",
    "\n",
    "# Создать шкалировщик\n",
    "minmax_scale = preprocessing.MinMaxScaler(feature_range=(0, 1))\n",
    "\n",
    "# Прошкалировать признак\n",
    "scaled_feature = minmax_scale.fit_transform(feature)\n",
    "\n",
    "# Показать прошкалированный признак\n",
    "scaled_feature"
   ]
  },
  {
   "cell_type": "markdown",
   "metadata": {},
   "source": [
    "> <b>4.2 Стандартизация признака"
   ]
  },
  {
   "cell_type": "code",
   "execution_count": 2,
   "metadata": {},
   "outputs": [
    {
     "data": {
      "text/plain": [
       "array([[-0.76058269],\n",
       "       [-0.54177196],\n",
       "       [-0.35009716],\n",
       "       [-0.32271504],\n",
       "       [ 1.97516685]])"
      ]
     },
     "execution_count": 2,
     "metadata": {},
     "output_type": "execute_result"
    }
   ],
   "source": [
    "# Загрузить библиотеки\n",
    "import numpy as np\n",
    "from sklearn import preprocessing\n",
    "\n",
    "# Создать признак\n",
    "x = np.array([[-1000.1],\n",
    "              [-200.2],\n",
    "              [500.5],\n",
    "              [600.6],\n",
    "              [9000.9]])\n",
    "\n",
    "# Создать шкалировщик\n",
    "scaler = preprocessing.StandardScaler()\n",
    "\n",
    "# Преобразовать признак\n",
    "standardized = scaler.fit_transform(x)\n",
    "\n",
    "# Показать признак\n",
    "standardized"
   ]
  },
  {
   "cell_type": "code",
   "execution_count": 3,
   "metadata": {},
   "outputs": [
    {
     "name": "stdout",
     "output_type": "stream",
     "text": [
      "Среднее: 0.0\n",
      "Стандартное отклонение: 1.0\n"
     ]
    }
   ],
   "source": [
    "# Напечатать среднее значение и стандартное отклонение\n",
    "print(\"Среднее:\", round(standardized.mean()))\n",
    "print(\"Стандартное отклонение:\", standardized.std())"
   ]
  },
  {
   "cell_type": "code",
   "execution_count": 4,
   "metadata": {},
   "outputs": [
    {
     "data": {
      "text/plain": [
       "array([[-1.87387612],\n",
       "       [-0.875     ],\n",
       "       [ 0.        ],\n",
       "       [ 0.125     ],\n",
       "       [10.61488511]])"
      ]
     },
     "execution_count": 4,
     "metadata": {},
     "output_type": "execute_result"
    }
   ],
   "source": [
    "# Создать шкалировщик\n",
    "robust_scaler = preprocessing.RobustScaler()\n",
    "\n",
    "# Преобразовать признак\n",
    "robust_scaler.fit_transform(x)"
   ]
  },
  {
   "cell_type": "markdown",
   "metadata": {},
   "source": [
    "> <b>4.3 Нормализация наблюдений"
   ]
  },
  {
   "cell_type": "code",
   "execution_count": 5,
   "metadata": {},
   "outputs": [
    {
     "data": {
      "text/plain": [
       "array([[0.70710678, 0.70710678],\n",
       "       [0.30782029, 0.95144452],\n",
       "       [0.07405353, 0.99725427],\n",
       "       [0.04733062, 0.99887928],\n",
       "       [0.95709822, 0.28976368]])"
      ]
     },
     "execution_count": 5,
     "metadata": {},
     "output_type": "execute_result"
    }
   ],
   "source": [
    "# Загрузить библиотеки\n",
    "import numpy as np\n",
    "from sklearn.preprocessing import Normalizer\n",
    "\n",
    "# Создать матрицу признаков\n",
    "features = np.array([[0.5, 0.5],\n",
    "                     [1.1, 3.4],\n",
    "                     [1.5, 20.2],\n",
    "                     [1.63, 34.4],\n",
    "                     [10.9, 3.3]])\n",
    "\n",
    "# Создать нормализатор\n",
    "normalizer = Normalizer(norm=\"l2\")\n",
    "\n",
    "# Преобразовать матрицу признаков\n",
    "normalizer.transform(features)"
   ]
  },
  {
   "cell_type": "code",
   "execution_count": 6,
   "metadata": {},
   "outputs": [
    {
     "data": {
      "text/plain": [
       "array([[0.70710678, 0.70710678],\n",
       "       [0.30782029, 0.95144452],\n",
       "       [0.07405353, 0.99725427],\n",
       "       [0.04733062, 0.99887928],\n",
       "       [0.95709822, 0.28976368]])"
      ]
     },
     "execution_count": 6,
     "metadata": {},
     "output_type": "execute_result"
    }
   ],
   "source": [
    "# Преобразовать матрицу признаков\n",
    "features_l2_norm = Normalizer(norm=\"l2\").transform(features)\n",
    "\n",
    "# Показать матрицу признаков\n",
    "features_l2_norm"
   ]
  },
  {
   "cell_type": "code",
   "execution_count": 7,
   "metadata": {},
   "outputs": [
    {
     "data": {
      "text/plain": [
       "array([[0.5       , 0.5       ],\n",
       "       [0.24444444, 0.75555556],\n",
       "       [0.06912442, 0.93087558],\n",
       "       [0.04524008, 0.95475992],\n",
       "       [0.76760563, 0.23239437]])"
      ]
     },
     "execution_count": 7,
     "metadata": {},
     "output_type": "execute_result"
    }
   ],
   "source": [
    "# Преобразовать матрицу признаков\n",
    "features_l1_norm = Normalizer(norm=\"l1\").transform(features)\n",
    "\n",
    "# Показать матрицу признаков\n",
    "features_l1_norm"
   ]
  },
  {
   "cell_type": "code",
   "execution_count": 8,
   "metadata": {},
   "outputs": [
    {
     "name": "stdout",
     "output_type": "stream",
     "text": [
      "Сумма значений первого наблюдения: 1.0\n"
     ]
    }
   ],
   "source": [
    "# Напечатать сумму\n",
    "print(\"Сумма значений первого наблюдения:\",\n",
    "      features_l1_norm[0, 0] + features_l1_norm[0, 1])"
   ]
  },
  {
   "cell_type": "markdown",
   "metadata": {},
   "source": [
    "> <b>4.4 Генерирование полиномиальных и взаимодействующих признаков"
   ]
  },
  {
   "cell_type": "code",
   "execution_count": 1,
   "metadata": {},
   "outputs": [
    {
     "data": {
      "text/plain": [
       "array([[2., 3., 4., 6., 9.],\n",
       "       [2., 3., 4., 6., 9.],\n",
       "       [2., 3., 4., 6., 9.]])"
      ]
     },
     "execution_count": 1,
     "metadata": {},
     "output_type": "execute_result"
    }
   ],
   "source": [
    "# Загрузить библиотеки\n",
    "import numpy as np\n",
    "from sklearn.preprocessing import PolynomialFeatures\n",
    "\n",
    "# Создать матрицу признаков\n",
    "features = np.array([[2, 3],\n",
    "                     [2, 3],\n",
    "                     [2, 3]])\n",
    "\n",
    "# Создать объект PolynomialFeatures \n",
    "polynomial_interaction = PolynomialFeatures(degree=2, include_bias=False)\n",
    "\n",
    "# Создать полиномиальные признаки\n",
    "polynomial_interaction.fit_transform(features)"
   ]
  },
  {
   "cell_type": "code",
   "execution_count": 2,
   "metadata": {},
   "outputs": [
    {
     "data": {
      "text/plain": [
       "array([[2., 3., 6.],\n",
       "       [2., 3., 6.],\n",
       "       [2., 3., 6.]])"
      ]
     },
     "execution_count": 2,
     "metadata": {},
     "output_type": "execute_result"
    }
   ],
   "source": [
    "interaction = PolynomialFeatures(degree=2,\n",
    "                                 interaction_only=True, include_bias=False)\n",
    "interaction.fit_transform(features)"
   ]
  },
  {
   "cell_type": "markdown",
   "metadata": {},
   "source": [
    "> <b>4.5 Преобразование признаков"
   ]
  },
  {
   "cell_type": "code",
   "execution_count": 12,
   "metadata": {},
   "outputs": [
    {
     "data": {
      "text/plain": [
       "array([[12, 13],\n",
       "       [12, 13],\n",
       "       [12, 13]])"
      ]
     },
     "execution_count": 12,
     "metadata": {},
     "output_type": "execute_result"
    }
   ],
   "source": [
    "# Загрузить библиотеки \n",
    "import numpy as np\n",
    "from sklearn.preprocessing import FunctionTransformer\n",
    "\n",
    "# Создать матрицу признаков\n",
    "features = np.array([[2, 3],\n",
    "                     [2, 3],\n",
    "                     [2, 3]])\n",
    "\n",
    "# Определить простую функцию\n",
    "def add_ten(x):\n",
    "    return x + 10\n",
    "\n",
    "# Создать проеобразователь\n",
    "ten_transformer = FunctionTransformer(add_ten)\n",
    "\n",
    "# Преобразовать матрицу признаков\n",
    "ten_transformer.transform(features)"
   ]
  },
  {
   "cell_type": "code",
   "execution_count": 13,
   "metadata": {},
   "outputs": [
    {
     "data": {
      "text/html": [
       "<div>\n",
       "<style scoped>\n",
       "    .dataframe tbody tr th:only-of-type {\n",
       "        vertical-align: middle;\n",
       "    }\n",
       "\n",
       "    .dataframe tbody tr th {\n",
       "        vertical-align: top;\n",
       "    }\n",
       "\n",
       "    .dataframe thead th {\n",
       "        text-align: right;\n",
       "    }\n",
       "</style>\n",
       "<table border=\"1\" class=\"dataframe\">\n",
       "  <thead>\n",
       "    <tr style=\"text-align: right;\">\n",
       "      <th></th>\n",
       "      <th>признак_1</th>\n",
       "      <th>признак_2</th>\n",
       "    </tr>\n",
       "  </thead>\n",
       "  <tbody>\n",
       "    <tr>\n",
       "      <th>0</th>\n",
       "      <td>12</td>\n",
       "      <td>13</td>\n",
       "    </tr>\n",
       "    <tr>\n",
       "      <th>1</th>\n",
       "      <td>12</td>\n",
       "      <td>13</td>\n",
       "    </tr>\n",
       "    <tr>\n",
       "      <th>2</th>\n",
       "      <td>12</td>\n",
       "      <td>13</td>\n",
       "    </tr>\n",
       "  </tbody>\n",
       "</table>\n",
       "</div>"
      ],
      "text/plain": [
       "   признак_1  признак_2\n",
       "0         12         13\n",
       "1         12         13\n",
       "2         12         13"
      ]
     },
     "execution_count": 13,
     "metadata": {},
     "output_type": "execute_result"
    }
   ],
   "source": [
    "# Загрузить библиотеку\n",
    "import pandas as pd\n",
    "\n",
    "# Создать фрейм данных\n",
    "df = pd.DataFrame(features, columns=[\"признак_1\", \"признак_2\"])\n",
    "\n",
    "# Применить функцию\n",
    "df.apply(add_ten)"
   ]
  },
  {
   "cell_type": "markdown",
   "metadata": {},
   "source": [
    "> <b>4.6 Обнаружение выбросов"
   ]
  },
  {
   "cell_type": "code",
   "execution_count": 5,
   "metadata": {},
   "outputs": [
    {
     "data": {
      "text/plain": [
       "array([-1,  1,  1,  1,  1,  1,  1,  1,  1,  1])"
      ]
     },
     "execution_count": 5,
     "metadata": {},
     "output_type": "execute_result"
    }
   ],
   "source": [
    "# Загрузить библиотеки\n",
    "import numpy as np\n",
    "from sklearn.covariance import EllipticEnvelope\n",
    "from sklearn.datasets import make_blobs\n",
    "\n",
    "# Создать симулированные данные \n",
    "features, _ = make_blobs(n_samples = 10,\n",
    "                         n_features = 2,\n",
    "                         centers = 1,\n",
    "                         random_state = 1)\n",
    "\n",
    "# Заменить значения первого наблюдения предельными значениями\n",
    "features[0,0] = 10000\n",
    "features[0,1] = 10000\n",
    "\n",
    "# Создать детектор\n",
    "outlier_detector = EllipticEnvelope(contamination=.1)\n",
    "\n",
    "# Выполнить подгонку детектора\n",
    "outlier_detector.fit(features)\n",
    "\n",
    "# Предсказать выбросы\n",
    "outlier_detector.predict(features)"
   ]
  },
  {
   "cell_type": "code",
   "execution_count": 6,
   "metadata": {},
   "outputs": [
    {
     "data": {
      "text/plain": [
       "(array([0], dtype=int64),)"
      ]
     },
     "execution_count": 6,
     "metadata": {},
     "output_type": "execute_result"
    }
   ],
   "source": [
    "# Создать один признак\n",
    "feature = features[:,0]\n",
    "\n",
    "# Создать функцию, которая возращает индекс выбросов\n",
    "def indicies_of_outliers(x):\n",
    "    q1, q3 = np.percentile(x, [25, 75])\n",
    "    iqr = q3 - q1\n",
    "    lower_bound = q1 - (iqr * 1.5)\n",
    "    upper_bound = q3 + (iqr * 1.5)\n",
    "    return np.where((x > upper_bound) | (x < lower_bound))\n",
    "\n",
    "# Выполнить функцию\n",
    "indicies_of_outliers(feature)"
   ]
  },
  {
   "cell_type": "markdown",
   "metadata": {},
   "source": [
    "> <b>4.7 Обработка выбросов"
   ]
  },
  {
   "cell_type": "code",
   "execution_count": 9,
   "metadata": {},
   "outputs": [
    {
     "data": {
      "text/html": [
       "<div>\n",
       "<style scoped>\n",
       "    .dataframe tbody tr th:only-of-type {\n",
       "        vertical-align: middle;\n",
       "    }\n",
       "\n",
       "    .dataframe tbody tr th {\n",
       "        vertical-align: top;\n",
       "    }\n",
       "\n",
       "    .dataframe thead th {\n",
       "        text-align: right;\n",
       "    }\n",
       "</style>\n",
       "<table border=\"1\" class=\"dataframe\">\n",
       "  <thead>\n",
       "    <tr style=\"text-align: right;\">\n",
       "      <th></th>\n",
       "      <th>Цена</th>\n",
       "      <th>Ванные</th>\n",
       "      <th>Кв_футы</th>\n",
       "    </tr>\n",
       "  </thead>\n",
       "  <tbody>\n",
       "    <tr>\n",
       "      <th>0</th>\n",
       "      <td>534433</td>\n",
       "      <td>2.0</td>\n",
       "      <td>1500</td>\n",
       "    </tr>\n",
       "    <tr>\n",
       "      <th>1</th>\n",
       "      <td>392333</td>\n",
       "      <td>3.5</td>\n",
       "      <td>2500</td>\n",
       "    </tr>\n",
       "    <tr>\n",
       "      <th>2</th>\n",
       "      <td>293222</td>\n",
       "      <td>2.0</td>\n",
       "      <td>1500</td>\n",
       "    </tr>\n",
       "  </tbody>\n",
       "</table>\n",
       "</div>"
      ],
      "text/plain": [
       "     Цена  Ванные  Кв_футы\n",
       "0  534433     2.0     1500\n",
       "1  392333     3.5     2500\n",
       "2  293222     2.0     1500"
      ]
     },
     "execution_count": 9,
     "metadata": {},
     "output_type": "execute_result"
    }
   ],
   "source": [
    "# Загрузить библиотеку \n",
    "import pandas as pd\n",
    "\n",
    "# Создать фрейм данных \n",
    "houses = pd.DataFrame()\n",
    "houses['Цена'] = [534433, 392333, 293222, 4322032]\n",
    "houses['Ванные'] = [2, 3.5, 2, 116]\n",
    "houses['Кв_футы'] = [1500, 2500, 1500, 48000]\n",
    "\n",
    "# Отфильтровать наблюдения\n",
    "houses[houses['Ванные'] < 20]"
   ]
  },
  {
   "cell_type": "code",
   "execution_count": 10,
   "metadata": {},
   "outputs": [
    {
     "data": {
      "text/html": [
       "<div>\n",
       "<style scoped>\n",
       "    .dataframe tbody tr th:only-of-type {\n",
       "        vertical-align: middle;\n",
       "    }\n",
       "\n",
       "    .dataframe tbody tr th {\n",
       "        vertical-align: top;\n",
       "    }\n",
       "\n",
       "    .dataframe thead th {\n",
       "        text-align: right;\n",
       "    }\n",
       "</style>\n",
       "<table border=\"1\" class=\"dataframe\">\n",
       "  <thead>\n",
       "    <tr style=\"text-align: right;\">\n",
       "      <th></th>\n",
       "      <th>Цена</th>\n",
       "      <th>Ванные</th>\n",
       "      <th>Кв_футы</th>\n",
       "      <th>Выброс</th>\n",
       "    </tr>\n",
       "  </thead>\n",
       "  <tbody>\n",
       "    <tr>\n",
       "      <th>0</th>\n",
       "      <td>534433</td>\n",
       "      <td>2.0</td>\n",
       "      <td>1500</td>\n",
       "      <td>0</td>\n",
       "    </tr>\n",
       "    <tr>\n",
       "      <th>1</th>\n",
       "      <td>392333</td>\n",
       "      <td>3.5</td>\n",
       "      <td>2500</td>\n",
       "      <td>0</td>\n",
       "    </tr>\n",
       "    <tr>\n",
       "      <th>2</th>\n",
       "      <td>293222</td>\n",
       "      <td>2.0</td>\n",
       "      <td>1500</td>\n",
       "      <td>0</td>\n",
       "    </tr>\n",
       "    <tr>\n",
       "      <th>3</th>\n",
       "      <td>4322032</td>\n",
       "      <td>116.0</td>\n",
       "      <td>48000</td>\n",
       "      <td>1</td>\n",
       "    </tr>\n",
       "  </tbody>\n",
       "</table>\n",
       "</div>"
      ],
      "text/plain": [
       "      Цена  Ванные  Кв_футы  Выброс\n",
       "0   534433     2.0     1500       0\n",
       "1   392333     3.5     2500       0\n",
       "2   293222     2.0     1500       0\n",
       "3  4322032   116.0    48000       1"
      ]
     },
     "execution_count": 10,
     "metadata": {},
     "output_type": "execute_result"
    }
   ],
   "source": [
    "# Загрузить библиотеку \n",
    "import numpy as np\n",
    "\n",
    "# Создать признак на основе булева условия\n",
    "houses[\"Выброс\"] = np.where(houses[\"Ванные\"] < 20, 0, 1)\n",
    "\n",
    "# Показать данные\n",
    "houses"
   ]
  },
  {
   "cell_type": "code",
   "execution_count": 11,
   "metadata": {},
   "outputs": [
    {
     "data": {
      "text/html": [
       "<div>\n",
       "<style scoped>\n",
       "    .dataframe tbody tr th:only-of-type {\n",
       "        vertical-align: middle;\n",
       "    }\n",
       "\n",
       "    .dataframe tbody tr th {\n",
       "        vertical-align: top;\n",
       "    }\n",
       "\n",
       "    .dataframe thead th {\n",
       "        text-align: right;\n",
       "    }\n",
       "</style>\n",
       "<table border=\"1\" class=\"dataframe\">\n",
       "  <thead>\n",
       "    <tr style=\"text-align: right;\">\n",
       "      <th></th>\n",
       "      <th>Цена</th>\n",
       "      <th>Ванные</th>\n",
       "      <th>Кв_футы</th>\n",
       "      <th>Выброс</th>\n",
       "      <th>Логарифм_кв_футов</th>\n",
       "    </tr>\n",
       "  </thead>\n",
       "  <tbody>\n",
       "    <tr>\n",
       "      <th>0</th>\n",
       "      <td>534433</td>\n",
       "      <td>2.0</td>\n",
       "      <td>1500</td>\n",
       "      <td>0</td>\n",
       "      <td>7.313220</td>\n",
       "    </tr>\n",
       "    <tr>\n",
       "      <th>1</th>\n",
       "      <td>392333</td>\n",
       "      <td>3.5</td>\n",
       "      <td>2500</td>\n",
       "      <td>0</td>\n",
       "      <td>7.824046</td>\n",
       "    </tr>\n",
       "    <tr>\n",
       "      <th>2</th>\n",
       "      <td>293222</td>\n",
       "      <td>2.0</td>\n",
       "      <td>1500</td>\n",
       "      <td>0</td>\n",
       "      <td>7.313220</td>\n",
       "    </tr>\n",
       "    <tr>\n",
       "      <th>3</th>\n",
       "      <td>4322032</td>\n",
       "      <td>116.0</td>\n",
       "      <td>48000</td>\n",
       "      <td>1</td>\n",
       "      <td>10.778956</td>\n",
       "    </tr>\n",
       "  </tbody>\n",
       "</table>\n",
       "</div>"
      ],
      "text/plain": [
       "      Цена  Ванные  Кв_футы  Выброс  Логарифм_кв_футов\n",
       "0   534433     2.0     1500       0           7.313220\n",
       "1   392333     3.5     2500       0           7.824046\n",
       "2   293222     2.0     1500       0           7.313220\n",
       "3  4322032   116.0    48000       1          10.778956"
      ]
     },
     "execution_count": 11,
     "metadata": {},
     "output_type": "execute_result"
    }
   ],
   "source": [
    "# Взять логарифм признака\n",
    "houses[\"Логарифм_кв_футов\"] = [np.log(x) for x in houses[\"Кв_футы\"]]\n",
    "\n",
    "# Показать данные\n",
    "houses"
   ]
  },
  {
   "cell_type": "markdown",
   "metadata": {},
   "source": [
    "> <b>4.8 Дискретизация признаков"
   ]
  },
  {
   "cell_type": "code",
   "execution_count": 10,
   "metadata": {},
   "outputs": [
    {
     "data": {
      "text/plain": [
       "array([[0],\n",
       "       [0],\n",
       "       [1],\n",
       "       [1],\n",
       "       [1]])"
      ]
     },
     "execution_count": 10,
     "metadata": {},
     "output_type": "execute_result"
    }
   ],
   "source": [
    "# Загрузить библиотеки\n",
    "import numpy as np\n",
    "from sklearn.preprocessing import Binarizer\n",
    "\n",
    "# Создать признак\n",
    "age = np.array([[6],\n",
    "                [12],\n",
    "                [20],\n",
    "                [36],\n",
    "                [65]])\n",
    "\n",
    "# Создать бинаризатор\n",
    "binarizer = Binarizer(18)\n",
    "\n",
    "# Преобразовать признак\n",
    "binarizer.fit_transform(age)"
   ]
  },
  {
   "cell_type": "code",
   "execution_count": 11,
   "metadata": {},
   "outputs": [
    {
     "data": {
      "text/plain": [
       "array([[0],\n",
       "       [0],\n",
       "       [1],\n",
       "       [2],\n",
       "       [3]], dtype=int64)"
      ]
     },
     "execution_count": 11,
     "metadata": {},
     "output_type": "execute_result"
    }
   ],
   "source": [
    "# Разнести признак по корзинам\n",
    "np.digitize(age, bins=[20,30,64])"
   ]
  },
  {
   "cell_type": "code",
   "execution_count": 12,
   "metadata": {},
   "outputs": [
    {
     "data": {
      "text/plain": [
       "array([[0],\n",
       "       [0],\n",
       "       [0],\n",
       "       [2],\n",
       "       [3]], dtype=int64)"
      ]
     },
     "execution_count": 12,
     "metadata": {},
     "output_type": "execute_result"
    }
   ],
   "source": [
    "# Разнести признак по корзинам\n",
    "np.digitize(age, bins=[20,30,64], right=True)"
   ]
  },
  {
   "cell_type": "code",
   "execution_count": 13,
   "metadata": {},
   "outputs": [
    {
     "data": {
      "text/plain": [
       "array([[0],\n",
       "       [0],\n",
       "       [1],\n",
       "       [1],\n",
       "       [1]], dtype=int64)"
      ]
     },
     "execution_count": 13,
     "metadata": {},
     "output_type": "execute_result"
    }
   ],
   "source": [
    "# Разнести признак по корзинам\n",
    "np.digitize(age, bins=[18])"
   ]
  },
  {
   "cell_type": "markdown",
   "metadata": {},
   "source": [
    "> <b>4.9 Группирование наблюдений с помощью кластеризации"
   ]
  },
  {
   "cell_type": "code",
   "execution_count": 6,
   "metadata": {},
   "outputs": [
    {
     "data": {
      "text/html": [
       "<div>\n",
       "<style scoped>\n",
       "    .dataframe tbody tr th:only-of-type {\n",
       "        vertical-align: middle;\n",
       "    }\n",
       "\n",
       "    .dataframe tbody tr th {\n",
       "        vertical-align: top;\n",
       "    }\n",
       "\n",
       "    .dataframe thead th {\n",
       "        text-align: right;\n",
       "    }\n",
       "</style>\n",
       "<table border=\"1\" class=\"dataframe\">\n",
       "  <thead>\n",
       "    <tr style=\"text-align: right;\">\n",
       "      <th></th>\n",
       "      <th>признак_1</th>\n",
       "      <th>признак_2</th>\n",
       "      <th>группа</th>\n",
       "    </tr>\n",
       "  </thead>\n",
       "  <tbody>\n",
       "    <tr>\n",
       "      <th>0</th>\n",
       "      <td>-9.877554</td>\n",
       "      <td>-3.336145</td>\n",
       "      <td>0</td>\n",
       "    </tr>\n",
       "    <tr>\n",
       "      <th>1</th>\n",
       "      <td>-7.287210</td>\n",
       "      <td>-8.353986</td>\n",
       "      <td>2</td>\n",
       "    </tr>\n",
       "    <tr>\n",
       "      <th>2</th>\n",
       "      <td>-6.943061</td>\n",
       "      <td>-7.023744</td>\n",
       "      <td>2</td>\n",
       "    </tr>\n",
       "    <tr>\n",
       "      <th>3</th>\n",
       "      <td>-7.440167</td>\n",
       "      <td>-8.791959</td>\n",
       "      <td>2</td>\n",
       "    </tr>\n",
       "    <tr>\n",
       "      <th>4</th>\n",
       "      <td>-6.641388</td>\n",
       "      <td>-8.075888</td>\n",
       "      <td>2</td>\n",
       "    </tr>\n",
       "  </tbody>\n",
       "</table>\n",
       "</div>"
      ],
      "text/plain": [
       "   признак_1  признак_2  группа\n",
       "0  -9.877554  -3.336145       0\n",
       "1  -7.287210  -8.353986       2\n",
       "2  -6.943061  -7.023744       2\n",
       "3  -7.440167  -8.791959       2\n",
       "4  -6.641388  -8.075888       2"
      ]
     },
     "execution_count": 6,
     "metadata": {},
     "output_type": "execute_result"
    }
   ],
   "source": [
    "# Загрузить библиотеки\n",
    "import pandas as pd\n",
    "from sklearn.datasets import make_blobs\n",
    "from sklearn.cluster import KMeans\n",
    "\n",
    "# Создать матрицу симулированных признаков\n",
    "features, _ = make_blobs(n_samples = 50,\n",
    "                         n_features = 2,\n",
    "                         centers = 3,\n",
    "                         random_state = 1)\n",
    "\n",
    "# Создать фрейм данных\n",
    "dataframe = pd.DataFrame(features, columns=[\"признак_1\", \"признак_2\"])\n",
    "\n",
    "# Создать кластеризатор по методу k-средних\n",
    "clusterer = KMeans(3, random_state=0)\n",
    "\n",
    "# Выполнить подгонку кластеризатора\n",
    "clusterer.fit(features)\n",
    "\n",
    "# Предсказать значения\n",
    "dataframe[\"группа\"] = clusterer.predict(features)\n",
    "\n",
    "# Взглянуть на первые несколько наблюдений\n",
    "dataframe.head(5)"
   ]
  },
  {
   "cell_type": "markdown",
   "metadata": {},
   "source": [
    "> <b>4.10 Удаление наблюдений с пропущенными значениями"
   ]
  },
  {
   "cell_type": "code",
   "execution_count": 7,
   "metadata": {},
   "outputs": [
    {
     "data": {
      "text/plain": [
       "array([[ 1.1, 11.1],\n",
       "       [ 2.2, 22.2],\n",
       "       [ 3.3, 33.3],\n",
       "       [ 4.4, 44.4]])"
      ]
     },
     "execution_count": 7,
     "metadata": {},
     "output_type": "execute_result"
    }
   ],
   "source": [
    "# Загрузить библиотеку\n",
    "import numpy as np\n",
    "\n",
    "# Создать матрицу признаков\n",
    "features = np.array([[1.1, 11.1],\n",
    "                     [2.2, 22.2],\n",
    "                     [3.3, 33.3],\n",
    "                     [4.4, 44.4],\n",
    "                     [np.nan, 55]])\n",
    "\n",
    "# Отставить только те наблюдения, которые не (помечены ~) пропущены\n",
    "features[~np.isnan(features).any(axis=1)]"
   ]
  },
  {
   "cell_type": "code",
   "execution_count": 8,
   "metadata": {},
   "outputs": [
    {
     "data": {
      "text/html": [
       "<div>\n",
       "<style scoped>\n",
       "    .dataframe tbody tr th:only-of-type {\n",
       "        vertical-align: middle;\n",
       "    }\n",
       "\n",
       "    .dataframe tbody tr th {\n",
       "        vertical-align: top;\n",
       "    }\n",
       "\n",
       "    .dataframe thead th {\n",
       "        text-align: right;\n",
       "    }\n",
       "</style>\n",
       "<table border=\"1\" class=\"dataframe\">\n",
       "  <thead>\n",
       "    <tr style=\"text-align: right;\">\n",
       "      <th></th>\n",
       "      <th>признак_1</th>\n",
       "      <th>признак_2</th>\n",
       "    </tr>\n",
       "  </thead>\n",
       "  <tbody>\n",
       "    <tr>\n",
       "      <th>0</th>\n",
       "      <td>1.1</td>\n",
       "      <td>11.1</td>\n",
       "    </tr>\n",
       "    <tr>\n",
       "      <th>1</th>\n",
       "      <td>2.2</td>\n",
       "      <td>22.2</td>\n",
       "    </tr>\n",
       "    <tr>\n",
       "      <th>2</th>\n",
       "      <td>3.3</td>\n",
       "      <td>33.3</td>\n",
       "    </tr>\n",
       "    <tr>\n",
       "      <th>3</th>\n",
       "      <td>4.4</td>\n",
       "      <td>44.4</td>\n",
       "    </tr>\n",
       "  </tbody>\n",
       "</table>\n",
       "</div>"
      ],
      "text/plain": [
       "   признак_1  признак_2\n",
       "0        1.1       11.1\n",
       "1        2.2       22.2\n",
       "2        3.3       33.3\n",
       "3        4.4       44.4"
      ]
     },
     "execution_count": 8,
     "metadata": {},
     "output_type": "execute_result"
    }
   ],
   "source": [
    "# Загрузить библиотеку\n",
    "import pandas as pd\n",
    "\n",
    "# Загрузить данные\n",
    "dataframe = pd.DataFrame(features, columns=[\"признак_1\", \"признак_2\"])\n",
    "\n",
    "# Удалить наблюдения с отсутствующими значениями\n",
    "dataframe.dropna()"
   ]
  },
  {
   "cell_type": "markdown",
   "metadata": {},
   "source": [
    "> <b>4.11 Импутация пропущенных значений"
   ]
  },
  {
   "cell_type": "code",
   "execution_count": 25,
   "metadata": {},
   "outputs": [],
   "source": [
    "#\n",
    "# Поскольку инсталляции библиотеки fancyimpute в Windows 10 вызывает\n",
    "# проблемы, ниже приведен рабочий исходный код ядра этой библиотеки \n",
    "#\n",
    "# Данная ячейка блокнота содержит ядро библиотеки fancyimpute\n",
    "# (См. https://github.com/iskandr/fancyimpute/tree/master/fancyimpute)\n",
    "# с классом KNN, содержащим метод k-ближайших соседей, \n",
    "# используемым для импутации пропущенных значений в рецепте 4.11.\n",
    "#\n",
    "\n",
    "####### Начало вставки\n",
    "\n",
    "import numpy as np\n",
    "from six.moves import range\n",
    "from knnimpute import knn_impute_few_observed, knn_impute_with_argpartition\n",
    "\n",
    "class Solver(object):\n",
    "    def __init__(\n",
    "            self,\n",
    "            fill_method=\"zero\",\n",
    "            n_imputations=1,\n",
    "            min_value=None,\n",
    "            max_value=None,\n",
    "            normalizer=None):\n",
    "        self.fill_method = fill_method\n",
    "        self.n_imputations = n_imputations\n",
    "        self.min_value = min_value\n",
    "        self.max_value = max_value\n",
    "        self.normalizer = normalizer\n",
    "\n",
    "    def __repr__(self):\n",
    "        return str(self)\n",
    "\n",
    "    def __str__(self):\n",
    "        field_list = []\n",
    "        for (k, v) in sorted(self.__dict__.items()):\n",
    "            if v is None or isinstance(v, (float, int)):\n",
    "                field_list.append(\"%s=%s\" % (k, v))\n",
    "            elif isinstance(v, str):\n",
    "                field_list.append(\"%s='%s'\" % (k, v))\n",
    "        return \"%s(%s)\" % (\n",
    "            self.__class__.__name__,\n",
    "            \", \".join(field_list))\n",
    "\n",
    "    def _check_input(self, X):\n",
    "        if len(X.shape) != 2:\n",
    "            raise ValueError(\"Expected 2d matrix, got %s array\" % (X.shape,))\n",
    "\n",
    "    def _check_missing_value_mask(self, missing):\n",
    "        if not missing.any():\n",
    "            raise ValueError(\"Input matrix is not missing any values\")\n",
    "        if missing.all():\n",
    "            raise ValueError(\"Input matrix must have some non-missing values\")\n",
    "\n",
    "    def _fill_columns_with_fn(self, X, missing_mask, col_fn):\n",
    "        for col_idx in range(X.shape[1]):\n",
    "            missing_col = missing_mask[:, col_idx]\n",
    "            n_missing = missing_col.sum()\n",
    "            if n_missing == 0:\n",
    "                continue\n",
    "            col_data = X[:, col_idx]\n",
    "            fill_values = col_fn(col_data)\n",
    "            X[missing_col, col_idx] = fill_values\n",
    "\n",
    "    def fill(\n",
    "            self,\n",
    "            X,\n",
    "            missing_mask,\n",
    "            fill_method=None,\n",
    "            inplace=False):\n",
    "        \"\"\"\n",
    "        Parameters\n",
    "        ----------\n",
    "        X : np.array\n",
    "            Data array containing NaN entries\n",
    "        missing_mask : np.array\n",
    "            Boolean array indicating where NaN entries are\n",
    "        fill_method : str\n",
    "            \"zero\": fill missing entries with zeros\n",
    "            \"mean\": fill with column means\n",
    "            \"median\" : fill with column medians\n",
    "            \"min\": fill with min value per column\n",
    "            \"random\": fill with gaussian samples according to mean/std of column\n",
    "        inplace : bool\n",
    "            Modify matrix or fill a copy\n",
    "        \"\"\"\n",
    "        if not inplace:\n",
    "            X = X.copy()\n",
    "\n",
    "        if not fill_method:\n",
    "            fill_method = self.fill_method\n",
    "\n",
    "        if fill_method not in (\"zero\", \"mean\", \"median\", \"min\", \"random\"):\n",
    "            raise ValueError(\"Invalid fill method: '%s'\" % (fill_method))\n",
    "        elif fill_method == \"zero\":\n",
    "            # replace NaN's with 0\n",
    "            X[missing_mask] = 0\n",
    "        elif fill_method == \"mean\":\n",
    "            self._fill_columns_with_fn(X, missing_mask, np.nanmean)\n",
    "        elif fill_method == \"median\":\n",
    "            self._fill_columns_with_fn(X, missing_mask, np.nanmedian)\n",
    "        elif fill_method == \"min\":\n",
    "            self._fill_columns_with_fn(X, missing_mask, np.nanmin)\n",
    "        elif fill_method == \"random\":\n",
    "            self._fill_columns_with_fn(\n",
    "                X,\n",
    "                missing_mask,\n",
    "                col_fn=generate_random_column_samples)\n",
    "        return X\n",
    "\n",
    "    def prepare_input_data(self, X):\n",
    "        \"\"\"\n",
    "        Check to make sure that the input matrix and its mask of missing\n",
    "        values are valid. Returns X and missing mask.\n",
    "        \"\"\"\n",
    "        X = np.asarray(X)\n",
    "        if X.dtype != \"f\" and X.dtype != \"d\":\n",
    "            X = X.astype(float)\n",
    "\n",
    "        self._check_input(X)\n",
    "        missing_mask = np.isnan(X)\n",
    "        self._check_missing_value_mask(missing_mask)\n",
    "        return X, missing_mask\n",
    "\n",
    "    def clip(self, X):\n",
    "        \"\"\"\n",
    "        Clip values to fall within any global or column-wise min/max constraints\n",
    "        \"\"\"\n",
    "        X = np.asarray(X)\n",
    "        if self.min_value is not None:\n",
    "            X[X < self.min_value] = self.min_value\n",
    "        if self.max_value is not None:\n",
    "            X[X > self.max_value] = self.max_value\n",
    "        return X\n",
    "\n",
    "    def project_result(self, X):\n",
    "        \"\"\"\n",
    "        First undo normaliztion and then clip to the user-specified min/max\n",
    "        range.\n",
    "        \"\"\"\n",
    "        X = np.asarray(X)\n",
    "        if self.normalizer is not None:\n",
    "            X = self.normalizer.inverse_transform(X)\n",
    "        return self.clip(X)\n",
    "\n",
    "    def solve(self, X, missing_mask):\n",
    "        \"\"\"\n",
    "        Given an initialized matrix X and a mask of where its missing values\n",
    "        had been, return a completion of X.\n",
    "        \"\"\"\n",
    "        raise ValueError(\"%s.solve not yet implemented!\" % (\n",
    "            self.__class__.__name__,))\n",
    "\n",
    "    def single_imputation(self, X):\n",
    "        X_original, missing_mask = self.prepare_input_data(X)\n",
    "        observed_mask = ~missing_mask\n",
    "        X = X_original.copy()\n",
    "        if self.normalizer is not None:\n",
    "            X = self.normalizer.fit_transform(X)\n",
    "        X_filled = self.fill(X, missing_mask, inplace=True)\n",
    "        if not isinstance(X_filled, np.ndarray):\n",
    "            raise TypeError(\n",
    "                \"Expected %s.fill() to return NumPy array but got %s\" % (\n",
    "                    self.__class__.__name__,\n",
    "                    type(X_filled)))\n",
    "\n",
    "        X_result = self.solve(X_filled, missing_mask)\n",
    "        if not isinstance(X_result, np.ndarray):\n",
    "            raise TypeError(\n",
    "                \"Expected %s.solve() to return NumPy array but got %s\" % (\n",
    "                    self.__class__.__name__,\n",
    "                    type(X_result)))\n",
    "\n",
    "        X_result = self.project_result(X=X_result)\n",
    "        X_result[observed_mask] = X_original[observed_mask]\n",
    "        return X_result\n",
    "\n",
    "    def multiple_imputations(self, X):\n",
    "        \"\"\"\n",
    "        Generate multiple imputations of the same incomplete matrix\n",
    "        \"\"\"\n",
    "        return [self.single_imputation(X) for _ in range(self.n_imputations)]\n",
    "\n",
    "    def complete(self, X):\n",
    "        \"\"\"\n",
    "        Expects 2d float matrix with NaN entries signifying missing values\n",
    "        Returns completed matrix without any NaNs.\n",
    "        \"\"\"\n",
    "        imputations = self.multiple_imputations(X)\n",
    "        if len(imputations) == 1:\n",
    "            return imputations[0]\n",
    "        else:\n",
    "            return np.mean(imputations, axis=0)\n",
    "\n",
    "class KNN(Solver):\n",
    "    \"\"\"\n",
    "    k-Nearest Neighbors imputation for arrays with missing data.\n",
    "    Works only on dense arrays with at most a few thousand rows.\n",
    "    Assumes that each feature has been centered and rescaled to have\n",
    "    mean 0 and variance 1.\n",
    "    \n",
    "    Inspired by the implementation of kNNImpute from the R package\n",
    "    imputation.\n",
    "    See here: \n",
    "    https://www.rdocumentation.org/packages/imputation/versions/2.0.3/topics/kNNImpute\n",
    "    \"\"\"\n",
    "    def __init__(\n",
    "            self,\n",
    "            k=5,\n",
    "            orientation=\"rows\",\n",
    "            use_argpartition=False,\n",
    "            print_interval=100,\n",
    "            min_value=None,\n",
    "            max_value=None,\n",
    "            normalizer=None,\n",
    "            verbose=True):\n",
    "        \"\"\"\n",
    "        Parameters\n",
    "        ----------\n",
    "        k : int\n",
    "            Number of neighboring rows to use for imputation.\n",
    "        orientation : str\n",
    "            Which axis of the input matrix should be treated as a sample\n",
    "            (default is \"rows\" but can also be \"columns\")\n",
    "        use_argpartition : bool\n",
    "           Use a more naive implementation of kNN imputation whichs calls\n",
    "           numpy.argpartition for each row/column pair. May give NaN if fewer\n",
    "           than k neighbors are available for a missing value.\n",
    "        print_interval : int\n",
    "        min_value : float\n",
    "            Minimum possible imputed value\n",
    "        max_value : float\n",
    "            Maximum possible imputed value\n",
    "        normalizer : object\n",
    "            Any object (such as BiScaler) with fit() and transform() methods\n",
    "        verbose : bool\n",
    "        \"\"\"\n",
    "        Solver.__init__(\n",
    "            self,\n",
    "            min_value=min_value,\n",
    "            max_value=max_value,\n",
    "            normalizer=normalizer)\n",
    "        self.k = k\n",
    "        self.verbose = verbose\n",
    "        self.orientation = orientation\n",
    "        self.print_interval = print_interval\n",
    "        if use_argpartition:\n",
    "            self._impute_fn = knn_impute_with_argpartition\n",
    "        else:\n",
    "            self._impute_fn = knn_impute_few_observed\n",
    "\n",
    "    def solve(self, X, missing_mask):\n",
    "        if self.orientation == \"columns\":\n",
    "            X = X.T\n",
    "            missing_mask = missing_mask.T\n",
    "\n",
    "        elif self.orientation != \"rows\":\n",
    "            raise ValueError(\n",
    "                \"Orientation must be either 'rows' or 'columns', got: %s\" % (\n",
    "                    self.orientation,))\n",
    "\n",
    "        X_imputed = self._impute_fn(\n",
    "            X=X,\n",
    "            missing_mask=missing_mask,\n",
    "            k=self.k,\n",
    "            verbose=self.verbose,\n",
    "            print_interval=self.print_interval)\n",
    "\n",
    "        failed_to_impute = np.isnan(X_imputed)\n",
    "        n_missing_after_imputation = failed_to_impute.sum()\n",
    "        if n_missing_after_imputation != 0:\n",
    "            if self.verbose:\n",
    "                print(\"[KNN] Warning: %d/%d still missing after imputation, replacing with 0\" % (\n",
    "                    n_missing_after_imputation,\n",
    "                    X.shape[0] * X.shape[1]))\n",
    "            X_imputed[failed_to_impute] = X[failed_to_impute]\n",
    "\n",
    "        if self.orientation == \"columns\":\n",
    "            X_imputed = X_imputed.T\n",
    "\n",
    "        return X_imputed\n",
    "####### Конец вставки"
   ]
  },
  {
   "cell_type": "code",
   "execution_count": 27,
   "metadata": {},
   "outputs": [
    {
     "name": "stdout",
     "output_type": "stream",
     "text": [
      "Истинное значение: 0.8730186113995938\n",
      "Импутированное значение: 1.0955332713113226\n"
     ]
    }
   ],
   "source": [
    "# Загрузить библиотеки\n",
    "import numpy as np\n",
    "# from fancyimpute import KNN     # в Win10 проблематично\n",
    "from sklearn.preprocessing import StandardScaler\n",
    "from sklearn.datasets import make_blobs\n",
    "\n",
    "# Создать матрицу симулированных признаков\n",
    "features, _ = make_blobs(n_samples = 1000,\n",
    "                         n_features = 2,\n",
    "                         random_state = 1)\n",
    "\n",
    "# Стандартизировать признаки\n",
    "scaler = StandardScaler()\n",
    "standardized_features = scaler.fit_transform(features)\n",
    "\n",
    "# Заменить первое значение первого признака на пропущенное значение\n",
    "true_value = standardized_features[0,0]\n",
    "standardized_features[0,0] = np.nan\n",
    "\n",
    "# Предсказать пропущенные значения в матрице признаков\n",
    "# (Класс KNN из ядра библиотеки fancyimpute выше!)\n",
    "features_knn_imputed = KNN(k=5, verbose=0).complete(standardized_features) \n",
    "\n",
    "# Сравнить истинные и импутированные значения\n",
    "print(\"Истинное значение:\", true_value)\n",
    "print(\"Импутированное значение:\", features_knn_imputed[0,0])"
   ]
  },
  {
   "cell_type": "code",
   "execution_count": 28,
   "metadata": {},
   "outputs": [
    {
     "name": "stdout",
     "output_type": "stream",
     "text": [
      "Истинное значение: 0.8730186113995938\n",
      "Импутированное значение: -3.058372724614996\n"
     ]
    }
   ],
   "source": [
    "# Загрузить библиотеку\n",
    "from sklearn.preprocessing import Imputer\n",
    "\n",
    "# Создать заполнитель \n",
    "mean_imputer = Imputer(strategy=\"mean\", axis=0)\n",
    "\n",
    "# Импутировать значения\n",
    "features_mean_imputed = mean_imputer.fit_transform(features)\n",
    "\n",
    "# Сравнить истинные и импутированные значения\n",
    "print(\"Истинное значение:\", true_value)\n",
    "print(\"Импутированное значение:\", features_mean_imputed[0,0])"
   ]
  },
  {
   "cell_type": "code",
   "execution_count": null,
   "metadata": {},
   "outputs": [],
   "source": []
  }
 ],
 "metadata": {
  "kernelspec": {
   "display_name": "Python 3",
   "language": "python",
   "name": "python3"
  },
  "language_info": {
   "codemirror_mode": {
    "name": "ipython",
    "version": 3
   },
   "file_extension": ".py",
   "mimetype": "text/x-python",
   "name": "python",
   "nbconvert_exporter": "python",
   "pygments_lexer": "ipython3",
   "version": "3.6.4"
  }
 },
 "nbformat": 4,
 "nbformat_minor": 2
}
