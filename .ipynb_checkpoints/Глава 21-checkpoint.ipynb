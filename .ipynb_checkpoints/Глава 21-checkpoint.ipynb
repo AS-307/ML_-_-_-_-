{
 "cells": [
  {
   "cell_type": "markdown",
   "metadata": {},
   "source": [
    "# Глава 21. \n",
    "## Сохранение и загрузка натренированных моделей\n",
    "> <b>21.1 Сохранение и загрузка модели scikit-learn"
   ]
  },
  {
   "cell_type": "code",
   "execution_count": 1,
   "metadata": {},
   "outputs": [
    {
     "data": {
      "text/plain": [
       "['model.pkl']"
      ]
     },
     "execution_count": 1,
     "metadata": {},
     "output_type": "execute_result"
    }
   ],
   "source": [
    "# Загрузить библиотеки\n",
    "from sklearn.ensemble import RandomForestClassifier\n",
    "from sklearn import datasets\n",
    "from sklearn.externals import joblib\n",
    "\n",
    "# Загрузить данные\n",
    "iris = datasets.load_iris()\n",
    "features = iris.data\n",
    "target = iris.target\n",
    "\n",
    "# Создать объект-классификатор случайных лесов\n",
    "classifer = RandomForestClassifier()\n",
    "\n",
    "# Натренировать модель\n",
    "model = classifer.fit(features, target)\n",
    "\n",
    "# Сохранить модель в качестве файла консервации\n",
    "joblib.dump(model, \"model.pkl\")"
   ]
  },
  {
   "cell_type": "code",
   "execution_count": 2,
   "metadata": {},
   "outputs": [],
   "source": [
    "# Загрузить модель из файла\n",
    "classifer = joblib.load(\"model.pkl\")"
   ]
  },
  {
   "cell_type": "code",
   "execution_count": 3,
   "metadata": {},
   "outputs": [
    {
     "data": {
      "text/plain": [
       "array([0])"
      ]
     },
     "execution_count": 3,
     "metadata": {},
     "output_type": "execute_result"
    }
   ],
   "source": [
    "# Создать новое наблюдение\n",
    "new_observation = [[ 5.2, 3.2, 1.1, 0.1]]\n",
    "\n",
    "# Предсказать класс наблюдения\n",
    "classifer.predict(new_observation)"
   ]
  },
  {
   "cell_type": "code",
   "execution_count": 4,
   "metadata": {},
   "outputs": [
    {
     "data": {
      "text/plain": [
       "['model_0.11.pkl']"
      ]
     },
     "execution_count": 4,
     "metadata": {},
     "output_type": "execute_result"
    }
   ],
   "source": [
    "# Импортировать библиотеку\n",
    "import sklearn\n",
    "\n",
    "# Получить версию библиотеки scikit-learn\n",
    "scikit_version = joblib.__version__\n",
    "\n",
    "# Сохранить модель в качестве файла консервации\n",
    "joblib.dump(model, \"model_{version}.pkl\".format(version=scikit_version))"
   ]
  },
  {
   "cell_type": "markdown",
   "metadata": {},
   "source": [
    "> <b>21.2 Сохранение и загрузка модели Keras"
   ]
  },
  {
   "cell_type": "code",
   "execution_count": 5,
   "metadata": {},
   "outputs": [
    {
     "name": "stderr",
     "output_type": "stream",
     "text": [
      "c:\\python36\\lib\\site-packages\\h5py\\__init__.py:36: FutureWarning: Conversion of the second argument of issubdtype from `float` to `np.floating` is deprecated. In future, it will be treated as `np.float64 == np.dtype(float).type`.\n",
      "  from ._conv import register_converters as _register_converters\n",
      "Using TensorFlow backend.\n"
     ]
    }
   ],
   "source": [
    "# Загрузить библиотеки\n",
    "import numpy as np\n",
    "from keras.datasets import imdb\n",
    "from keras.preprocessing.text import Tokenizer\n",
    "from keras import models\n",
    "from keras import layers\n",
    "from keras.models import load_model\n",
    "\n",
    "# Задать начальное значение для ГПСЧ\n",
    "np.random.seed(0)\n",
    "\n",
    "# Задать желаемое количество признаков\n",
    "number_of_features = 1000\n",
    "\n",
    "# Загрузить данные и вектор целей из данных с отзывами о кинофильмах\n",
    "(train_data, train_target), (test_data, test_target) = imdb.load_data(\n",
    "    num_words=number_of_features)\n",
    "\n",
    "# Конвертировать данные отзывов о кинофильмах в\n",
    "# матрицу признаков в кодировке с одним активным состоянием\n",
    "tokenizer = Tokenizer(num_words=number_of_features)\n",
    "train_features = tokenizer.sequences_to_matrix(train_data, mode=\"binary\")\n",
    "test_features = tokenizer.sequences_to_matrix(test_data, mode=\"binary\")\n",
    "\n",
    "# Инициализировать нейронную сеть\n",
    "network = models.Sequential()\n",
    "\n",
    "# Добавить полносвязный слой с активационной функцией ReLU\n",
    "network.add(layers.Dense(\n",
    "    units=16,\n",
    "    activation=\"relu\",\n",
    "    input_shape=(number_of_features,)))\n",
    "\n",
    "# Добавить полносвязный слой с сигмоидальной активационной функцией\n",
    "network.add(layers.Dense(units=1, activation=\"sigmoid\"))\n",
    "\n",
    "# Скомпилировать нейронную сеть\n",
    "network.compile(\n",
    "    loss=\"binary_crossentropy\", # Перекрестная энтропия\n",
    "    optimizer=\"rmsprop\",  # Распространение СКО\n",
    "    metrics=[\"accuracy\"]) # Точностный показатель результативности\n",
    "\n",
    "# Train neural network\n",
    "history = network.fit(\n",
    "    train_features, # Признаки\n",
    "    train_target,   # Вектор целей\n",
    "    epochs=3,       # Количество эпох\n",
    "    verbose=0,      # Вывода нет\n",
    "    batch_size=100, # Количество наблюдений на пакет\n",
    "    validation_data=(test_features, test_target)) # Тестовые данные\n",
    "\n",
    "# Сохранить нейронную сеть\n",
    "network.save(\"model.h5\")"
   ]
  },
  {
   "cell_type": "code",
   "execution_count": 6,
   "metadata": {},
   "outputs": [],
   "source": [
    "# Загрузить нейронную сеть\n",
    "network = load_model(\"model.h5\")"
   ]
  },
  {
   "cell_type": "code",
   "execution_count": null,
   "metadata": {},
   "outputs": [],
   "source": []
  }
 ],
 "metadata": {
  "kernelspec": {
   "display_name": "Python 3",
   "language": "python",
   "name": "python3"
  },
  "language_info": {
   "codemirror_mode": {
    "name": "ipython",
    "version": 3
   },
   "file_extension": ".py",
   "mimetype": "text/x-python",
   "name": "python",
   "nbconvert_exporter": "python",
   "pygments_lexer": "ipython3",
   "version": "3.6.4"
  }
 },
 "nbformat": 4,
 "nbformat_minor": 2
}
