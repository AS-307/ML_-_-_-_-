{
 "cells": [
  {
   "cell_type": "markdown",
   "metadata": {},
   "source": [
    "# Глава 18. \n",
    "## Наивный Байес\n",
    "> <b>18.1 Тренировка классификатора для непрерывных признаков"
   ]
  },
  {
   "cell_type": "code",
   "execution_count": 2,
   "metadata": {},
   "outputs": [],
   "source": [
    "# Загрузить библиотеки\n",
    "from sklearn import datasets\n",
    "from sklearn.naive_bayes import GaussianNB\n",
    "\n",
    "# Загрузить данные\n",
    "iris = datasets.load_iris()\n",
    "features = iris.data\n",
    "target = iris.target\n",
    "\n",
    "# Создать объект гаусова наивного Байеса\n",
    "classifer = GaussianNB()\n",
    "\n",
    "# Натренировать модель\n",
    "model = classifer.fit(features, target)"
   ]
  },
  {
   "cell_type": "code",
   "execution_count": 3,
   "metadata": {},
   "outputs": [
    {
     "data": {
      "text/plain": [
       "array([1])"
      ]
     },
     "execution_count": 3,
     "metadata": {},
     "output_type": "execute_result"
    }
   ],
   "source": [
    "# Создать новое наблюдение\n",
    "new_observation = [[ 4, 4, 4, 0.4]]\n",
    "\n",
    "# Предсказать класс\n",
    "model.predict(new_observation)"
   ]
  },
  {
   "cell_type": "code",
   "execution_count": 4,
   "metadata": {},
   "outputs": [],
   "source": [
    "# Создать объект гаусова наивного Байеса \n",
    "# с априорными вероятностями для каждого класса\n",
    "clf = GaussianNB(priors=[0.25, 0.25, 0.5])\n",
    "\n",
    "# Натренировать модель\n",
    "model = classifer.fit(features, target)"
   ]
  },
  {
   "cell_type": "markdown",
   "metadata": {},
   "source": [
    "> <b>18.2 Тренировка классификатора для дискертных и счетных признаков"
   ]
  },
  {
   "cell_type": "code",
   "execution_count": 5,
   "metadata": {},
   "outputs": [],
   "source": [
    "# Загрузить библиотеки\n",
    "import numpy as np\n",
    "from sklearn.naive_bayes import MultinomialNB\n",
    "from sklearn.feature_extraction.text import CountVectorizer\n",
    "\n",
    "# Создать текст\n",
    "text_data = np.array(['Бразилия - моя любовь. Бразилия!',\n",
    "                      'Бразилия - лучше',\n",
    "                      'Германия бьет обоих'])\n",
    "\n",
    "# Создать мешок слов\n",
    "count = CountVectorizer()\n",
    "bag_of_words = count.fit_transform(text_data)\n",
    "\n",
    "# Создать матрицу признаков\n",
    "features = bag_of_words.toarray()\n",
    "\n",
    "# Создать вектор целей\n",
    "target = np.array([0,0,1])\n",
    "\n",
    "# Создать объект полиномиального наивного байесова классификатора\n",
    "# с априорными вероятностями каждого класса\n",
    "classifer = MultinomialNB(class_prior=[0.25, 0.5])\n",
    "\n",
    "# Натренировать модель\n",
    "model = classifer.fit(features, target)"
   ]
  },
  {
   "cell_type": "code",
   "execution_count": 6,
   "metadata": {},
   "outputs": [
    {
     "data": {
      "text/plain": [
       "array([0])"
      ]
     },
     "execution_count": 6,
     "metadata": {},
     "output_type": "execute_result"
    }
   ],
   "source": [
    "# Создать новое наблюдение\n",
    "new_observation = [[0, 0, 0, 1, 0, 1, 0]]\n",
    "\n",
    "# Предсказать класс нового наблюдения\n",
    "model.predict(new_observation)"
   ]
  },
  {
   "cell_type": "markdown",
   "metadata": {},
   "source": [
    "> <b>18.3 Тренировка наивного байесова классификатора для бинарных признаков"
   ]
  },
  {
   "cell_type": "code",
   "execution_count": 7,
   "metadata": {},
   "outputs": [],
   "source": [
    "# Загрузить библиотеки\n",
    "import numpy as np\n",
    "from sklearn.naive_bayes import BernoulliNB\n",
    "\n",
    "# Создать три бинарных признака\n",
    "features = np.random.randint(2, size=(100, 3))\n",
    "\n",
    "# Создать вектор бинарных целей\n",
    "target = np.random.randint(2, size=(100, 1)).ravel()\n",
    "\n",
    "# Создать объект бернуллиева наивного Байеса\n",
    "# с априорными вероятностями каждого класса\n",
    "classifer = BernoulliNB(class_prior=[0.25, 0.5])\n",
    "\n",
    "# Натренировать модель\n",
    "model = classifer.fit(features, target)"
   ]
  },
  {
   "cell_type": "code",
   "execution_count": 8,
   "metadata": {},
   "outputs": [],
   "source": [
    "model_uniform_prior = BernoulliNB(class_prior=None, fit_prior=True)"
   ]
  },
  {
   "cell_type": "markdown",
   "metadata": {},
   "source": [
    "> <b>18.4 Калибровка предсказанных вероятностей"
   ]
  },
  {
   "cell_type": "code",
   "execution_count": 9,
   "metadata": {},
   "outputs": [
    {
     "data": {
      "text/plain": [
       "array([[0.31859969, 0.63663466, 0.04476565]])"
      ]
     },
     "execution_count": 9,
     "metadata": {},
     "output_type": "execute_result"
    }
   ],
   "source": [
    "# Загрузить библиотеки\n",
    "from sklearn import datasets\n",
    "from sklearn.naive_bayes import GaussianNB\n",
    "from sklearn.calibration import CalibratedClassifierCV\n",
    "\n",
    "# Загрузить данные\n",
    "iris = datasets.load_iris()\n",
    "features = iris.data\n",
    "target = iris.target\n",
    "\n",
    "# Создать объект гауссова наивного Байеса\n",
    "classifer = GaussianNB()\n",
    "\n",
    "# Создать откалиброванную перекрестную проверку\n",
    "# с сигмоидальной калибровкой\n",
    "classifer_sigmoid = CalibratedClassifierCV(classifer, cv=2, method='sigmoid')\n",
    "\n",
    "# Откалибровать вероятности\n",
    "classifer_sigmoid.fit(features, target)\n",
    "\n",
    "# Создать новое наблюдение\n",
    "new_observation = [[ 2.6, 2.6, 2.6, 0.4]]\n",
    "\n",
    "# Взглянуть на откалиброванные вероятности\n",
    "classifer_sigmoid.predict_proba(new_observation)"
   ]
  },
  {
   "cell_type": "code",
   "execution_count": 10,
   "metadata": {},
   "outputs": [
    {
     "data": {
      "text/plain": [
       "array([[2.58229098e-04, 9.99741447e-01, 3.23523643e-07]])"
      ]
     },
     "execution_count": 10,
     "metadata": {},
     "output_type": "execute_result"
    }
   ],
   "source": [
    "# Натренировать гауссов наивный Байес и\n",
    "# затем предсказать вероятности классов\n",
    "classifer.fit(features, target).predict_proba(new_observation)"
   ]
  },
  {
   "cell_type": "code",
   "execution_count": 11,
   "metadata": {},
   "outputs": [
    {
     "data": {
      "text/plain": [
       "array([[0.31859969, 0.63663466, 0.04476565]])"
      ]
     },
     "execution_count": 11,
     "metadata": {},
     "output_type": "execute_result"
    }
   ],
   "source": [
    "# Взглянуть на откалиброванные вероятности\n",
    "classifer_sigmoid.predict_proba(new_observation)"
   ]
  },
  {
   "cell_type": "code",
   "execution_count": null,
   "metadata": {},
   "outputs": [],
   "source": []
  }
 ],
 "metadata": {
  "kernelspec": {
   "display_name": "Python 3",
   "language": "python",
   "name": "python3"
  },
  "language_info": {
   "codemirror_mode": {
    "name": "ipython",
    "version": 3
   },
   "file_extension": ".py",
   "mimetype": "text/x-python",
   "name": "python",
   "nbconvert_exporter": "python",
   "pygments_lexer": "ipython3",
   "version": "3.6.4"
  }
 },
 "nbformat": 4,
 "nbformat_minor": 2
}
