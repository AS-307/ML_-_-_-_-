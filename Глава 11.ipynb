{
 "cells": [
  {
   "cell_type": "markdown",
   "metadata": {},
   "source": [
    "# Глава 11. \n",
    "## Оценивание моделей\n",
    "> <b>11.1 Перекрестная проверка моделей"
   ]
  },
  {
   "cell_type": "code",
   "execution_count": 2,
   "metadata": {},
   "outputs": [
    {
     "data": {
      "text/plain": [
       "0.964931719428926"
      ]
     },
     "execution_count": 2,
     "metadata": {},
     "output_type": "execute_result"
    }
   ],
   "source": [
    "# Загрузить библиотеки\n",
    "from sklearn import datasets\n",
    "from sklearn import metrics\n",
    "from sklearn.model_selection import KFold, cross_val_score\n",
    "from sklearn.pipeline import make_pipeline\n",
    "from sklearn.linear_model import LogisticRegression\n",
    "from sklearn.preprocessing import StandardScaler\n",
    "\n",
    "# Загрузить набор данных рукописных цифр\n",
    "digits = datasets.load_digits()\n",
    "\n",
    "# Создать матрицу признаков\n",
    "features = digits.data\n",
    "\n",
    "# Создать вектор целей\n",
    "target = digits.target\n",
    "\n",
    "# Создать стандартизатор\n",
    "standardizer = StandardScaler()\n",
    "\n",
    "# Создать объект логистической регрессии\n",
    "logit = LogisticRegression()\n",
    "\n",
    "# Создать конвейер, который стандартизирует, \n",
    "# затем выполняет логистическую регрессию\n",
    "pipeline = make_pipeline(standardizer, logit)\n",
    "\n",
    "# Создать k-блочную перекрестную проверку\n",
    "kf = KFold(n_splits=10, shuffle=True, random_state=1)\n",
    "\n",
    "# Выполнить k-блочную перекрестную проверку\n",
    "cv_results = cross_val_score(pipeline,  # Конвейер\n",
    "                             features,  # Матрица признаков\n",
    "                             target,    # Вектор целей\n",
    "                             cv=kf,     # Метод перекрестной проверки\n",
    "                             scoring=\"accuracy\", # Функция потери\n",
    "                             n_jobs=-1) # Использовать все ядра CPU\n",
    "\n",
    "# Вычислить среднее значение\n",
    "cv_results.mean()"
   ]
  },
  {
   "cell_type": "code",
   "execution_count": 3,
   "metadata": {},
   "outputs": [
    {
     "data": {
      "text/plain": [
       "array([0.97222222, 0.97777778, 0.95555556, 0.95      , 0.95555556,\n",
       "       0.98333333, 0.97777778, 0.96648045, 0.96089385, 0.94972067])"
      ]
     },
     "execution_count": 3,
     "metadata": {},
     "output_type": "execute_result"
    }
   ],
   "source": [
    "# Взглянуть на оценки для всех 10 блоков\n",
    "cv_results"
   ]
  },
  {
   "cell_type": "code",
   "execution_count": 4,
   "metadata": {},
   "outputs": [],
   "source": [
    "# Импортировать библиотеку\n",
    "from sklearn.model_selection import train_test_split\n",
    "\n",
    "# Создать тренировочный и тестовый наборы\n",
    "features_train, features_test, target_train, target_test = train_test_split(\n",
    "    features, target, test_size=0.1, random_state=1)\n",
    "\n",
    "# Выполнить подгонку стндартизатора к тренировочному набору\n",
    "standardizer.fit(features_train)\n",
    "\n",
    "# Применить к обоим наборам: тренировочному и тестовому\n",
    "features_train_std = standardizer.transform(features_train)\n",
    "features_test_std = standardizer.transform(features_test)"
   ]
  },
  {
   "cell_type": "code",
   "execution_count": 5,
   "metadata": {},
   "outputs": [],
   "source": [
    "# Создать конвейер\n",
    "pipeline = make_pipeline(standardizer, logit)"
   ]
  },
  {
   "cell_type": "code",
   "execution_count": 6,
   "metadata": {},
   "outputs": [],
   "source": [
    "# Выполнить k-блочную перекрестную проверку\n",
    "cv_results = cross_val_score(pipeline,  # Конвейер\n",
    "                             features,  # Матрица признаков\n",
    "                             target,    # Вектор целей\n",
    "                             cv=kf,     # Метод перекрестной проверки\n",
    "                             scoring=\"accuracy\", # Функция потери\n",
    "                             n_jobs=-1) # Использовать все ядра CPU"
   ]
  },
  {
   "cell_type": "markdown",
   "metadata": {},
   "source": [
    "> <b>11.2 Создание регрессионной модели в качестве ориентира"
   ]
  },
  {
   "cell_type": "code",
   "execution_count": 8,
   "metadata": {},
   "outputs": [
    {
     "data": {
      "text/plain": [
       "-0.001119359203955339"
      ]
     },
     "execution_count": 8,
     "metadata": {},
     "output_type": "execute_result"
    }
   ],
   "source": [
    "# Загрузить библиотеки\n",
    "from sklearn.datasets import load_boston\n",
    "from sklearn.dummy import DummyRegressor\n",
    "from sklearn.model_selection import train_test_split\n",
    "\n",
    "# Загрузить данные\n",
    "boston = load_boston()\n",
    "\n",
    "# Создать признаки\n",
    "features, target = boston.data, boston.target\n",
    "\n",
    "# Выполнить разбивку на тренировочный и тестовый наборы\n",
    "features_train, features_test, target_train, target_test = \\\n",
    "    train_test_split(features, target, random_state=0)\n",
    "\n",
    "# Создать фиктивный регрессор\n",
    "dummy = DummyRegressor(strategy='mean')\n",
    "\n",
    "# \"Натренировать\" фиктивный регрессор\n",
    "dummy.fit(features_train, target_train)\n",
    "\n",
    "# Получить оценку R-квадрат\n",
    "dummy.score(features_test, target_test)"
   ]
  },
  {
   "cell_type": "code",
   "execution_count": 8,
   "metadata": {},
   "outputs": [
    {
     "data": {
      "text/plain": [
       "0.6353620786674605"
      ]
     },
     "execution_count": 8,
     "metadata": {},
     "output_type": "execute_result"
    }
   ],
   "source": [
    "# Загрузить библиотеки\n",
    "from sklearn.linear_model import LinearRegression\n",
    "\n",
    "# Натренировать простую линейно-регрессионную модель\n",
    "ols = LinearRegression()\n",
    "ols.fit(features_train, target_train)\n",
    "\n",
    "# Получить оценку R-квадрат\n",
    "ols.score(features_test, target_test)"
   ]
  },
  {
   "cell_type": "code",
   "execution_count": 9,
   "metadata": {},
   "outputs": [
    {
     "data": {
      "text/plain": [
       "-0.06510502029325727"
      ]
     },
     "execution_count": 9,
     "metadata": {},
     "output_type": "execute_result"
    }
   ],
   "source": [
    "# Создать фиктивный регрессор, который \n",
    "# предсказывает 20 для всех наблюдений\n",
    "clf = DummyRegressor(strategy='constant', constant=20)\n",
    "clf.fit(features_train, target_train)\n",
    "\n",
    "# Вычислить оценку\n",
    "clf.score(features_test, target_test)"
   ]
  },
  {
   "cell_type": "markdown",
   "metadata": {},
   "source": [
    "> <b>11.3 Создание классификационной модели в качестве ориентира"
   ]
  },
  {
   "cell_type": "code",
   "execution_count": 7,
   "metadata": {},
   "outputs": [
    {
     "data": {
      "text/plain": [
       "0.42105263157894735"
      ]
     },
     "execution_count": 7,
     "metadata": {},
     "output_type": "execute_result"
    }
   ],
   "source": [
    "# Загрузить библиотеки\n",
    "from sklearn.datasets import load_iris\n",
    "from sklearn.dummy import DummyClassifier\n",
    "from sklearn.model_selection import train_test_split\n",
    "\n",
    "# Загрузить данные\n",
    "iris = load_iris()\n",
    "\n",
    "# Создать матрицу признаков и вектор целей\n",
    "features, target = iris.data, iris.target\n",
    "\n",
    "# Разбить на тренировочный и тестовый наборы\n",
    "features_train, features_test, target_train, target_test = \\\n",
    "    train_test_split(features, target, random_state=0)\n",
    "\n",
    "# Создать фиктивный классификатор\n",
    "dummy = DummyClassifier(strategy='uniform', random_state=1)\n",
    "\n",
    "# \"Натренировать\" модель\n",
    "dummy.fit(features_train, target_train)\n",
    "\n",
    "# Получить оценку точности\n",
    "dummy.score(features_test, target_test)"
   ]
  },
  {
   "cell_type": "code",
   "execution_count": 11,
   "metadata": {},
   "outputs": [
    {
     "data": {
      "text/plain": [
       "0.9736842105263158"
      ]
     },
     "execution_count": 11,
     "metadata": {},
     "output_type": "execute_result"
    }
   ],
   "source": [
    "# Загрузить библиотеку\n",
    "from sklearn.ensemble import RandomForestClassifier\n",
    "\n",
    "# Создать классификатор случайного леса\n",
    "classifier = RandomForestClassifier()\n",
    "\n",
    "# Натренировать модель\n",
    "classifier.fit(features_train, target_train)\n",
    "\n",
    "# Получить оценку точности\n",
    "classifier.score(features_test, target_test)"
   ]
  },
  {
   "cell_type": "markdown",
   "metadata": {},
   "source": [
    "> <b>11.4 Оценивание предсказаний бинарного классификатора"
   ]
  },
  {
   "cell_type": "code",
   "execution_count": 1,
   "metadata": {},
   "outputs": [
    {
     "data": {
      "text/plain": [
       "array([0.95170966, 0.9580084 , 0.95558223])"
      ]
     },
     "execution_count": 1,
     "metadata": {},
     "output_type": "execute_result"
    }
   ],
   "source": [
    "# Загрузить библиотеки\n",
    "from sklearn.model_selection import cross_val_score\n",
    "from sklearn.linear_model import LogisticRegression\n",
    "from sklearn.datasets import make_classification\n",
    "\n",
    "# Сгенерировать матрицу признаков и вектор целей\n",
    "X, y = make_classification(n_samples = 10000,\n",
    "                           n_features = 3,\n",
    "                           n_informative = 3,\n",
    "                           n_redundant = 0,\n",
    "                           n_classes = 2,\n",
    "                           random_state = 1)\n",
    "\n",
    "# Создать объект логистической регрессии\n",
    "logit = LogisticRegression()\n",
    "\n",
    "# Перекрестно проверить модель, \n",
    "# используя показатель точности\n",
    "cross_val_score(logit, X, y, scoring=\"accuracy\")"
   ]
  },
  {
   "cell_type": "code",
   "execution_count": 2,
   "metadata": {},
   "outputs": [
    {
     "data": {
      "text/plain": [
       "array([0.95252404, 0.96583282, 0.95558223])"
      ]
     },
     "execution_count": 2,
     "metadata": {},
     "output_type": "execute_result"
    }
   ],
   "source": [
    "# Перекрестно проверить модель, \n",
    "# используя показатель прецизионности\n",
    "cross_val_score(logit, X, y, scoring=\"precision\")"
   ]
  },
  {
   "cell_type": "code",
   "execution_count": 3,
   "metadata": {},
   "outputs": [
    {
     "data": {
      "text/plain": [
       "array([0.95080984, 0.94961008, 0.95558223])"
      ]
     },
     "execution_count": 3,
     "metadata": {},
     "output_type": "execute_result"
    }
   ],
   "source": [
    "# Перекрестно проверить модель, \n",
    "# используя показатель полноты\n",
    "cross_val_score(logit, X, y, scoring=\"recall\")"
   ]
  },
  {
   "cell_type": "code",
   "execution_count": 4,
   "metadata": {},
   "outputs": [
    {
     "data": {
      "text/plain": [
       "array([0.95166617, 0.95765275, 0.95558223])"
      ]
     },
     "execution_count": 4,
     "metadata": {},
     "output_type": "execute_result"
    }
   ],
   "source": [
    "# Перекрестно проверить модель, \n",
    "# используя показатель f1\n",
    "cross_val_score(logit, X, y, scoring=\"f1\")"
   ]
  },
  {
   "cell_type": "code",
   "execution_count": 5,
   "metadata": {},
   "outputs": [
    {
     "data": {
      "text/plain": [
       "0.947"
      ]
     },
     "execution_count": 5,
     "metadata": {},
     "output_type": "execute_result"
    }
   ],
   "source": [
    "# Загрузить библиотеку\n",
    "from sklearn.model_selection import train_test_split\n",
    "from sklearn.metrics import accuracy_score\n",
    "\n",
    "# Разбить на тренировочный и тестовый наборы\n",
    "X_train, X_test, y_train, y_test = train_test_split(X,\n",
    "                                                    y,\n",
    "                                                    test_size=0.1,\n",
    "                                                    random_state=1)\n",
    "\n",
    "# Предсказать значения для тренировочного вектора целей\n",
    "y_hat = logit.fit(X_train, y_train).predict(X_test)\n",
    "\n",
    "# Вычислить точность\n",
    "accuracy_score(y_test, y_hat)"
   ]
  },
  {
   "cell_type": "markdown",
   "metadata": {},
   "source": [
    "> <b>11.5 Оценивание порогов бинарного классификатора"
   ]
  },
  {
   "cell_type": "markdown",
   "metadata": {},
   "source": [
    "*Определение стиля изображения*"
   ]
  },
  {
   "cell_type": "code",
   "execution_count": 17,
   "metadata": {},
   "outputs": [],
   "source": [
    "# Заставить все графики в блокноте Jupyter\n",
    "# в дальнейшем появляться локально \n",
    "%matplotlib inline\n",
    "\n",
    "# переопределение стиля\n",
    "import matplotlib.pyplot as plt\n",
    "from matplotlib import rcParams\n",
    "rcParams['font.family']     = 'sans-serif'\n",
    "rcParams['font.sans-serif'] = ['Ubuntu Condensed']\n",
    "rcParams['figure.figsize']  = (4, 3)\n",
    "rcParams['legend.fontsize'] = 10\n",
    "rcParams['xtick.labelsize'] = 9\n",
    "rcParams['ytick.labelsize'] = 9"
   ]
  },
  {
   "cell_type": "code",
   "execution_count": 18,
   "metadata": {},
   "outputs": [
    {
     "data": {
      "image/png": "[encoded data removed]",
      "text/plain": [
       "<matplotlib.figure.Figure at 0x2349166ac18>"
      ]
     },
     "metadata": {},
     "output_type": "display_data"
    }
   ],
   "source": [
    "# Загрузить библиотеки\n",
    "import matplotlib.pyplot as plt\n",
    "from sklearn.datasets import make_classification\n",
    "from sklearn.linear_model import LogisticRegression\n",
    "from sklearn.metrics import roc_curve, roc_auc_score\n",
    "from sklearn.model_selection import train_test_split\n",
    "\n",
    "# Создать матрицу признаков и вектор целей\n",
    "features, target = make_classification(n_samples=10000,\n",
    "                                       n_features=10,\n",
    "                                       n_classes=2,\n",
    "                                       n_informative=3,\n",
    "                                       random_state=3)\n",
    "\n",
    "# Разбить на тренировочный и тестовый наборы\n",
    "features_train, features_test, target_train, target_test = train_test_split(\n",
    "features, target, test_size=0.1, random_state=1)\n",
    "\n",
    "# Создать логистический регрессионный классификатор \n",
    "logit = LogisticRegression()\n",
    "\n",
    "# Натренировать модель\n",
    "logit.fit(features_train, target_train)\n",
    "\n",
    "# Получить предсказанные вероятности\n",
    "target_probabilities = logit.predict_proba(features_test)[:,1]\n",
    "\n",
    "# Создать доли истинно- и ложноположительных исходов\n",
    "false_positive_rate, true_positive_rate, threshold = roc_curve(target_test,\n",
    "target_probabilities)\n",
    "\n",
    "# Построить график кривой ROC\n",
    "plt.title(\"Кривая ROC\")\n",
    "plt.plot(false_positive_rate, true_positive_rate)\n",
    "plt.plot([0, 1], ls=\"--\")\n",
    "plt.plot([0, 0], [1, 0] , c=\".7\"), plt.plot([1, 1] , c=\".7\")\n",
    "plt.ylabel(\"Доля истинноположительных исходов\")\n",
    "plt.xlabel(\"Доля ложноположительных исходов\")\n",
    "plt.tight_layout()\n",
    "plt.savefig('pics/11_01.png', dpi=600)\n",
    "plt.show()"
   ]
  },
  {
   "cell_type": "code",
   "execution_count": 19,
   "metadata": {},
   "outputs": [
    {
     "data": {
      "text/plain": [
       "array([[0.8688938, 0.1311062]])"
      ]
     },
     "execution_count": 19,
     "metadata": {},
     "output_type": "execute_result"
    }
   ],
   "source": [
    "# Получить предсказанные вероятности\n",
    "logit.predict_proba(features_test)[0:1]"
   ]
  },
  {
   "cell_type": "code",
   "execution_count": 20,
   "metadata": {},
   "outputs": [
    {
     "data": {
      "text/plain": [
       "array([0, 1])"
      ]
     },
     "execution_count": 20,
     "metadata": {},
     "output_type": "execute_result"
    }
   ],
   "source": [
    "logit.classes_"
   ]
  },
  {
   "cell_type": "code",
   "execution_count": 22,
   "metadata": {},
   "outputs": [
    {
     "name": "stdout",
     "output_type": "stream",
     "text": [
      "Порог: 0.5282247778873397\n",
      "Доля истинноположительных: 0.810204081632653\n",
      "Доля ложноположительных: 0.15490196078431373\n"
     ]
    }
   ],
   "source": [
    "print(\"Порог:\", threshold[116])\n",
    "print(\"Доля истинноположительных:\", true_positive_rate[116])\n",
    "print(\"Доля ложноположительных:\", false_positive_rate[116])"
   ]
  },
  {
   "cell_type": "code",
   "execution_count": 23,
   "metadata": {},
   "outputs": [
    {
     "name": "stdout",
     "output_type": "stream",
     "text": [
      "Порог: 0.8080195665631111\n",
      "Доля истинноположительных: 0.563265306122449\n",
      "Доля ложноположительных: 0.047058823529411764\n"
     ]
    }
   ],
   "source": [
    "print(\"Порог:\", threshold[45])\n",
    "print(\"Доля истинноположительных:\", true_positive_rate[45])\n",
    "print(\"Доля ложноположительных:\", false_positive_rate[45])"
   ]
  },
  {
   "cell_type": "code",
   "execution_count": 24,
   "metadata": {},
   "outputs": [
    {
     "data": {
      "text/plain": [
       "0.9073389355742296"
      ]
     },
     "execution_count": 24,
     "metadata": {},
     "output_type": "execute_result"
    }
   ],
   "source": [
    "# Вычислить площадь под кривой\n",
    "roc_auc_score(target_test, target_probabilities)"
   ]
  },
  {
   "cell_type": "markdown",
   "metadata": {},
   "source": [
    "> <b>11.6 Оценивание предсказаний мультиклассового классификатора"
   ]
  },
  {
   "cell_type": "code",
   "execution_count": 25,
   "metadata": {},
   "outputs": [
    {
     "data": {
      "text/plain": [
       "array([0.83653269, 0.8259826 , 0.81308131])"
      ]
     },
     "execution_count": 25,
     "metadata": {},
     "output_type": "execute_result"
    }
   ],
   "source": [
    "# Загрузить библиотеки\n",
    "from sklearn.model_selection import cross_val_score\n",
    "from sklearn.linear_model import LogisticRegression\n",
    "from sklearn.datasets import make_classification\n",
    "\n",
    "# Сгенерировать матрицу признаков и вектор целей\n",
    "features, target = make_classification(n_samples = 10000,\n",
    "                                       n_features = 3,\n",
    "                                       n_informative = 3,\n",
    "                                       n_redundant = 0,\n",
    "                                       n_classes = 3,\n",
    "                                       random_state = 1)\n",
    "\n",
    "# Создать объект логистической регрессии\n",
    "logit = LogisticRegression()\n",
    "\n",
    "# Перекрестно проверить модель,\n",
    "# используя показатель точности\n",
    "cross_val_score(logit, features, target, scoring='accuracy')"
   ]
  },
  {
   "cell_type": "code",
   "execution_count": 26,
   "metadata": {},
   "outputs": [
    {
     "data": {
      "text/plain": [
       "array([0.83613125, 0.82562258, 0.81293539])"
      ]
     },
     "execution_count": 26,
     "metadata": {},
     "output_type": "execute_result"
    }
   ],
   "source": [
    "# Перекрестно проверить модель,\n",
    "# используя макро-усредненную оценку F1\n",
    "cross_val_score(logit, features, target, scoring='f1_macro')"
   ]
  },
  {
   "cell_type": "markdown",
   "metadata": {},
   "source": [
    "> <b>11.7 Визуализация результативности классификатора"
   ]
  },
  {
   "cell_type": "code",
   "execution_count": 31,
   "metadata": {},
   "outputs": [
    {
     "data": {
      "image/png": "[encoded data removed]",
      "text/plain": [
       "<matplotlib.figure.Figure at 0x234920ec550>"
      ]
     },
     "metadata": {},
     "output_type": "display_data"
    }
   ],
   "source": [
    "# Загрузить библиотеки\n",
    "import matplotlib.pyplot as plt\n",
    "import seaborn as sns\n",
    "from sklearn import datasets\n",
    "from sklearn.linear_model import LogisticRegression\n",
    "from sklearn.model_selection import train_test_split\n",
    "from sklearn.metrics import confusion_matrix\n",
    "import pandas as pd\n",
    "\n",
    "# Загрузить данные\n",
    "iris = datasets.load_iris()\n",
    "\n",
    "# Создать матрицу признаков\n",
    "features = iris.data\n",
    "\n",
    "# Создать вектор целей\n",
    "target = iris.target\n",
    "\n",
    "# Создать список имен целевых классов\n",
    "class_names = iris.target_names\n",
    "\n",
    "# Создать тренировочный и тестовый наборы\n",
    "features_train, features_test, target_train, target_test = train_test_split(\n",
    "features, target, random_state=1)\n",
    "\n",
    "# Создать объект логистической регрессии\n",
    "classifier = LogisticRegression()\n",
    "\n",
    "# Натренировать модель и сделать предсказания\n",
    "target_predicted = classifier.fit(features_train,\n",
    "target_train).predict(features_test)\n",
    "\n",
    "# Создать матрицу ошибок\n",
    "matrix = confusion_matrix(target_test, target_predicted)\n",
    "\n",
    "# Создать фрейм данных pandas\n",
    "dataframe = pd.DataFrame(matrix, index=class_names, columns=class_names)\n",
    "\n",
    "# Создать тепловую картуа\n",
    "sns.heatmap(dataframe, annot=True, cbar=None, cmap=\"Blues\")\n",
    "plt.title(\"Матрица ошибок\"), plt.tight_layout()\n",
    "plt.ylabel(\"Истинный класс\"), plt.xlabel(\"Предсказанный класс\")\n",
    "plt.tight_layout()\n",
    "plt.savefig('pics/11_02.png', dpi=600)\n",
    "plt.show()"
   ]
  },
  {
   "cell_type": "markdown",
   "metadata": {},
   "source": [
    "> <b>11.8 Оценивание регрессионных моделей"
   ]
  },
  {
   "cell_type": "code",
   "execution_count": 32,
   "metadata": {},
   "outputs": [
    {
     "data": {
      "text/plain": [
       "array([-1718.22817783, -3103.4124284 , -1377.17858823])"
      ]
     },
     "execution_count": 32,
     "metadata": {},
     "output_type": "execute_result"
    }
   ],
   "source": [
    "# Загрузить библиотеки\n",
    "from sklearn.datasets import make_regression\n",
    "from sklearn.model_selection import cross_val_score\n",
    "from sklearn.linear_model import LinearRegression\n",
    "\n",
    "# Сгенерировать матрицу признаков, вектор целей\n",
    "features, target = make_regression(n_samples = 100,\n",
    "                                   n_features = 3,\n",
    "                                   n_informative = 3,\n",
    "                                   n_targets = 1,\n",
    "                                   noise = 50,\n",
    "                                   coef = False,\n",
    "                                   random_state = 1)\n",
    "\n",
    "# Создать объект линейной регрессии\n",
    "ols = LinearRegression()\n",
    "\n",
    "# Перекрестно проверить линейную регрессию,\n",
    "# используя (отрицательный) показатель MSE\n",
    "cross_val_score(ols, features, target, scoring='neg_mean_squared_error')"
   ]
  },
  {
   "cell_type": "code",
   "execution_count": 33,
   "metadata": {},
   "outputs": [
    {
     "data": {
      "text/plain": [
       "array([0.87804558, 0.76395862, 0.89154377])"
      ]
     },
     "execution_count": 33,
     "metadata": {},
     "output_type": "execute_result"
    }
   ],
   "source": [
    "# Перекрестно проверить линейную регрессию,\n",
    "# используя показатель R-квадрат\n",
    "cross_val_score(ols, features, target, scoring='r2')"
   ]
  },
  {
   "cell_type": "markdown",
   "metadata": {},
   "source": [
    "> <b>11.9 Оценивание кластеризующих моделей"
   ]
  },
  {
   "cell_type": "code",
   "execution_count": 34,
   "metadata": {},
   "outputs": [
    {
     "data": {
      "text/plain": [
       "0.8916265564072142"
      ]
     },
     "execution_count": 34,
     "metadata": {},
     "output_type": "execute_result"
    }
   ],
   "source": [
    "# Загрузить библиотеки\n",
    "import numpy as np\n",
    "from sklearn.metrics import silhouette_score\n",
    "from sklearn import datasets\n",
    "from sklearn.cluster import KMeans\n",
    "from sklearn.datasets import make_blobs\n",
    "\n",
    "# Сгененировать матрицу признаков\n",
    "features, _ = make_blobs(n_samples = 1000,\n",
    "                         n_features = 10,\n",
    "                         centers = 2,\n",
    "                         cluster_std = 0.5,\n",
    "                         shuffle = True,\n",
    "                         random_state = 1)\n",
    "\n",
    "# Кластеризовать данные, используя алгоритм k-средних,\n",
    "# чтобы предсказать классы\n",
    "model = KMeans(n_clusters=2, random_state=1).fit(features)\n",
    "\n",
    "# Получить предсказанные классы\n",
    "target_predicted = model.labels_\n",
    "\n",
    "# Оценить модель\n",
    "silhouette_score(features, target_predicted)"
   ]
  },
  {
   "cell_type": "markdown",
   "metadata": {},
   "source": [
    "> <b>11.10 Создание собственного оценочного метрического показателя"
   ]
  },
  {
   "cell_type": "code",
   "execution_count": 35,
   "metadata": {},
   "outputs": [
    {
     "data": {
      "text/plain": [
       "0.9997906102882058"
      ]
     },
     "execution_count": 35,
     "metadata": {},
     "output_type": "execute_result"
    }
   ],
   "source": [
    "# Загрузить библиотеки\n",
    "from sklearn.metrics import make_scorer, r2_score\n",
    "from sklearn.model_selection import train_test_split\n",
    "from sklearn.linear_model import Ridge\n",
    "from sklearn.datasets import make_regression\n",
    "\n",
    "# Сгененировать матрицу признаков и вектор целей\n",
    "features, target = make_regression(n_samples = 100,\n",
    "                                   n_features = 3,\n",
    "                                   random_state = 1)\n",
    "\n",
    "# Создать тренировочный и тестовый наборы\n",
    "features_train, features_test, target_train, target_test = train_test_split(\n",
    "features, target, test_size=0.10, random_state=1)\n",
    "\n",
    "# Создать собственный метрический показатель\n",
    "def custom_metric(target_test, target_predicted):\n",
    "    # Вычислить оценочный показатель r-квадрат\n",
    "    r2 = r2_score(target_test, target_predicted)\n",
    "    # Вернуть оценочный показатель r-квадрат\n",
    "    return r2\n",
    "\n",
    "# Создать оценочную функцию и установить,  \n",
    "# что чем выше оценки, тем они лучше\n",
    "score = make_scorer(custom_metric, greater_is_better=True)\n",
    "\n",
    "# Создать объект гребневой регрессии\n",
    "classifier = Ridge()\n",
    "\n",
    "# Натренировать гребневую регрессионную модель\n",
    "model = classifier.fit(features_train, target_train)\n",
    "\n",
    "# Применить собственную оценочную функцию\n",
    "score(model, features_test, target_test)"
   ]
  },
  {
   "cell_type": "code",
   "execution_count": 36,
   "metadata": {},
   "outputs": [
    {
     "data": {
      "text/plain": [
       "0.9997906102882058"
      ]
     },
     "execution_count": 36,
     "metadata": {},
     "output_type": "execute_result"
    }
   ],
   "source": [
    "# Предсказать значения\n",
    "target_predicted = model.predict(features_test)\n",
    "\n",
    "# Вычислить оценочный показатель r-квадрат\n",
    "r2_score(target_test, target_predicted)"
   ]
  },
  {
   "cell_type": "markdown",
   "metadata": {},
   "source": [
    "> <b>11.11 Визуализация эффекта размера тренировочного набора"
   ]
  },
  {
   "cell_type": "code",
   "execution_count": 40,
   "metadata": {},
   "outputs": [
    {
     "data": {
      "image/png": "[encoded data removed]",
      "text/plain": [
       "<matplotlib.figure.Figure at 0x2349249bc18>"
      ]
     },
     "metadata": {},
     "output_type": "display_data"
    }
   ],
   "source": [
    "# Загрузить библиотеки\n",
    "import numpy as np\n",
    "import matplotlib.pyplot as plt\n",
    "from sklearn.ensemble import RandomForestClassifier\n",
    "from sklearn.datasets import load_digits\n",
    "from sklearn.model_selection import learning_curve\n",
    "\n",
    "# Загрузить данные\n",
    "digits = load_digits()\n",
    "\n",
    "# Создать матрицу признаков и вектор целей\n",
    "features, target = digits.data, digits.target\n",
    "\n",
    "# Создать перекрестно-проверочные тренировочные и тестовые \n",
    "# оценки для разных размеров тренировочного набора\n",
    "train_sizes, train_scores, test_scores = learning_curve(\n",
    "                                    RandomForestClassifier(), # Классификатор\n",
    "                                    features, # Матрица признаков\n",
    "                                    target,   # Вектор целей\n",
    "                                    cv=10,    # Количество блоков\n",
    "                                    scoring='accuracy', # Показатель\n",
    "                                                        # результативности\n",
    "                                    n_jobs=-1,  # Использовать все ядра CPU\n",
    "                                    # Размеры 50 тренировочных наборов\n",
    "                                    train_sizes=np.linspace(0.01, 1.0, 50))\n",
    "\n",
    "# Создать стредние и стандартные отклонения оценок \n",
    "# тренировочного набора\n",
    "train_mean = np.mean(train_scores, axis=1)\n",
    "train_std = np.std(train_scores, axis=1)\n",
    "\n",
    "# Создать стредние и стандартные отклонения оценок \n",
    "# тестового набора\n",
    "test_mean = np.mean(test_scores, axis=1)\n",
    "test_std = np.std(test_scores, axis=1)\n",
    "\n",
    "# Нанести линии\n",
    "plt.plot(train_sizes, train_mean, '--', color=\"#111111\", \n",
    "         label=\"Тренировочная оценка\")\n",
    "plt.plot(train_sizes, test_mean, color=\"#111111\", \n",
    "         label=\"Перекрестно-проверочная оценка\")\n",
    "\n",
    "# Нанести полосы\n",
    "plt.fill_between(train_sizes, train_mean - train_std,\n",
    "train_mean + train_std, color=\"#DDDDDD\")\n",
    "plt.fill_between(train_sizes, test_mean - test_std,\n",
    "test_mean + test_std, color=\"#DDDDDD\")\n",
    "\n",
    "# Построить график\n",
    "plt.title(\"Кривая заучивания\")\n",
    "plt.xlabel(\"Размер тренировочного набора\"), plt.ylabel(\"Оценка точности\"),\n",
    "plt.legend(loc=\"best\")\n",
    "plt.tight_layout()\n",
    "plt.savefig('pics/11_03.png', dpi=600)\n",
    "plt.show()"
   ]
  },
  {
   "cell_type": "markdown",
   "metadata": {},
   "source": [
    "> <b>11.12 Создание текстового отчета об оценочных метрических показателях"
   ]
  },
  {
   "cell_type": "code",
   "execution_count": 41,
   "metadata": {},
   "outputs": [
    {
     "name": "stdout",
     "output_type": "stream",
     "text": [
      "             precision    recall  f1-score   support\n",
      "\n",
      "     setosa       1.00      1.00      1.00        13\n",
      " versicolor       1.00      0.62      0.77        16\n",
      "  virginica       0.60      1.00      0.75         9\n",
      "\n",
      "avg / total       0.91      0.84      0.84        38\n",
      "\n"
     ]
    }
   ],
   "source": [
    "# Загрузить библиотеки\n",
    "from sklearn import datasets\n",
    "from sklearn.linear_model import LogisticRegression\n",
    "from sklearn.model_selection import train_test_split\n",
    "from sklearn.metrics import classification_report\n",
    "\n",
    "# Загрузить данные\n",
    "iris = datasets.load_iris()\n",
    "\n",
    "# Создать матрицу признаков\n",
    "features = iris.data\n",
    "\n",
    "# Создать вектор целей\n",
    "target = iris.target\n",
    "\n",
    "# Создать список имен целевых классов\n",
    "class_names = iris.target_names\n",
    "\n",
    "# Создать тренировочны й тестовый наборы\n",
    "features_train, features_test, target_train, target_test = train_test_split(\n",
    "features, target, random_state=1)\n",
    "\n",
    "# Создать объект логистической регрессии\n",
    "classifier = LogisticRegression()\n",
    "\n",
    "# Натренировать модель и сделать предсказания\n",
    "model = classifier.fit(features_train, target_train)\n",
    "target_predicted = model.predict(features_test)\n",
    "\n",
    "# Создать классификационный отчет\n",
    "print(classification_report(target_test,\n",
    "                            target_predicted,\n",
    "                            target_names=class_names))"
   ]
  },
  {
   "cell_type": "markdown",
   "metadata": {},
   "source": [
    "> <b>11.13 Визуализация эффекта значений гиперпараметра"
   ]
  },
  {
   "cell_type": "code",
   "execution_count": 43,
   "metadata": {},
   "outputs": [
    {
     "data": {
      "image/png": "[encoded data removed]",
      "text/plain": [
       "<matplotlib.figure.Figure at 0x2349206d8d0>"
      ]
     },
     "metadata": {},
     "output_type": "display_data"
    }
   ],
   "source": [
    "# Загрузить библиотеки\n",
    "import matplotlib.pyplot as plt\n",
    "import numpy as np\n",
    "from sklearn.datasets import load_digits\n",
    "from sklearn.ensemble import RandomForestClassifier\n",
    "from sklearn.model_selection import validation_curve\n",
    "\n",
    "# Загрузить данные\n",
    "digits = load_digits()\n",
    "\n",
    "# Создать матрицу признаков и вектор целей\n",
    "features, target = digits.data, digits.target\n",
    "\n",
    "# Создать диапазон значений для параметра\n",
    "param_range = np.arange(1, 250, 2)\n",
    "\n",
    "# Вычислить точность на тренировочном и тестовом наборах,\n",
    "# используя диапазон значений параметра\n",
    "train_scores, test_scores = validation_curve(\n",
    "                RandomForestClassifier(),  # Классификатор\n",
    "                features,                  # Матрица признаков\n",
    "                target,                    # Вектор целей\n",
    "                param_name=\"n_estimators\", # Исследуемый гиперпараметр\n",
    "                param_range=param_range,   # Диапазон значений гиперпараметра\n",
    "                cv=3,                      # Количество блоков\n",
    "                scoring=\"accuracy\",        # Показатель результативности\n",
    "                n_jobs=-1)                 # Использовать все ядра CPU\n",
    "\n",
    "# Вычислить среднее и стандартное отклонение для оценок\n",
    "# тренировочного набора\n",
    "train_mean = np.mean(train_scores, axis=1)\n",
    "train_std = np.std(train_scores, axis=1)\n",
    "\n",
    "# Вычислить среднее и стандартное отклонение для оценок\n",
    "# тестового набора\n",
    "test_mean = np.mean(test_scores, axis=1)\n",
    "test_std = np.std(test_scores, axis=1)\n",
    "\n",
    "# Построить график средних оценок точности \n",
    "# для тренировочного и тестового наборов\n",
    "plt.plot(param_range, train_mean, color=\"black\",\n",
    "         label=\"Тренировочная оценка\",)\n",
    "plt.plot(param_range, test_mean, color=\"dimgrey\",\n",
    "         label=\"Перекрестно-проверочная оценка\")\n",
    "\n",
    "# Нанести полосы точности \n",
    "# для тренировочного и тестового наборов\n",
    "plt.fill_between(param_range, train_mean - train_std,\n",
    "train_mean + train_std, color=\"gray\")\n",
    "plt.fill_between(param_range, test_mean - test_std,\n",
    "test_mean + test_std, color=\"gainsboro\")\n",
    "\n",
    "# Создать график\n",
    "plt.title(\"Валидационная кривая со случайным лесом\")\n",
    "plt.xlabel(\"Количество деревьей\")\n",
    "plt.ylabel(\"Оценка точности\")\n",
    "plt.tight_layout()\n",
    "plt.legend(loc=\"best\")\n",
    "plt.tight_layout()\n",
    "plt.savefig('pics/11_04.png', dpi=600)\n",
    "plt.show()"
   ]
  },
  {
   "cell_type": "code",
   "execution_count": null,
   "metadata": {},
   "outputs": [],
   "source": []
  }
 ],
 "metadata": {
  "kernelspec": {
   "display_name": "Python 3",
   "language": "python",
   "name": "python3"
  },
  "language_info": {
   "codemirror_mode": {
    "name": "ipython",
    "version": 3
   },
   "file_extension": ".py",
   "mimetype": "text/x-python",
   "name": "python",
   "nbconvert_exporter": "python",
   "pygments_lexer": "ipython3",
   "version": "3.6.4"
  }
 },
 "nbformat": 4,
 "nbformat_minor": 2
}
