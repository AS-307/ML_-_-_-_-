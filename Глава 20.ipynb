{
 "cells": [
  {
   "cell_type": "markdown",
   "metadata": {},
   "source": [
    "# Глава 20. \n",
    "## Нейронные сети\n",
    "> <b>20.1 Предобработка данных для нейронных сетей"
   ]
  },
  {
   "cell_type": "code",
   "execution_count": 1,
   "metadata": {},
   "outputs": [
    {
     "data": {
      "text/plain": [
       "array([[-1.12541308,  1.96429418],\n",
       "       [-1.15329466, -0.50068741],\n",
       "       [ 0.29529406, -0.22809346],\n",
       "       [ 0.57385917, -0.42335076],\n",
       "       [ 1.40955451, -0.81216255]])"
      ]
     },
     "execution_count": 1,
     "metadata": {},
     "output_type": "execute_result"
    }
   ],
   "source": [
    "# Загрузить библиотеки\n",
    "from sklearn import preprocessing\n",
    "import numpy as np\n",
    "\n",
    "# Создать признак\n",
    "features = np.array([[-100.1, 3240.1],\n",
    "                     [-200.2, -234.1],\n",
    "                     [5000.5, 150.1],\n",
    "                     [6000.6, -125.1],\n",
    "                     [9000.9, -673.1]])\n",
    "\n",
    "# Создать шкалировщик\n",
    "scaler = preprocessing.StandardScaler()\n",
    "\n",
    "# Преобразовать признак\n",
    "features_standardized = scaler.fit_transform(features)\n",
    "\n",
    "# Показать признак\n",
    "features_standardized"
   ]
  },
  {
   "cell_type": "code",
   "execution_count": 2,
   "metadata": {},
   "outputs": [
    {
     "name": "stdout",
     "output_type": "stream",
     "text": [
      "Среднее значение: 0.0\n",
      "Стандартное отклонение: 0.9999999999999999\n"
     ]
    }
   ],
   "source": [
    "# Напечатать среднее значение и стандартное отклонение\n",
    "print(\"Среднее значение:\", round(features_standardized[:,0].mean()))\n",
    "print(\"Стандартное отклонение:\", features_standardized[:,0].std())"
   ]
  },
  {
   "cell_type": "markdown",
   "metadata": {},
   "source": [
    "> <b>20.2 Проектирование нейронной сети"
   ]
  },
  {
   "cell_type": "code",
   "execution_count": 3,
   "metadata": {},
   "outputs": [
    {
     "name": "stderr",
     "output_type": "stream",
     "text": [
      "c:\\python36\\lib\\site-packages\\h5py\\__init__.py:36: FutureWarning: Conversion of the second argument of issubdtype from `float` to `np.floating` is deprecated. In future, it will be treated as `np.float64 == np.dtype(float).type`.\n",
      "  from ._conv import register_converters as _register_converters\n",
      "Using TensorFlow backend.\n"
     ]
    }
   ],
   "source": [
    "# Загрузить библиотеки\n",
    "# import warnings\n",
    "from keras import models\n",
    "from keras import layers\n",
    "\n",
    "# Инициализировать нейронную сеть\n",
    "network = models.Sequential()\n",
    "\n",
    "# Добавить полносвязный слой с активационной функцией ReLU\n",
    "network.add(layers.Dense(units=16, activation=\"relu\", input_shape=(10,)))\n",
    "\n",
    "# Добавить полносвязный слой с активационной функцией ReLU\n",
    "network.add(layers.Dense(units=16, activation=\"relu\"))\n",
    "\n",
    "# Добавить полносвязный слой с сигмоидальной активационной функцией\n",
    "network.add(layers.Dense(units=1, activation=\"sigmoid\"))\n",
    "\n",
    "# Подавить раздражающее, но безвредное предупреждение\n",
    "# warnings.filterwarnings(action=\"ignore\", module=\"keras\")\n",
    "\n",
    "# Скомпилировать нейронную сеть\n",
    "network.compile(\n",
    "    loss=\"binary_crossentropy\", # Перекрестная энтропия\n",
    "    optimizer=\"rmsprop\",   # Распространение среднеквдадратической ошибки\n",
    "    metrics=[\"accuracy\"])  # Точностный показатель резу"
   ]
  },
  {
   "cell_type": "markdown",
   "metadata": {},
   "source": [
    "> <b>20.3 Тренировка бинарного классификатора"
   ]
  },
  {
   "cell_type": "code",
   "execution_count": 4,
   "metadata": {},
   "outputs": [
    {
     "name": "stdout",
     "output_type": "stream",
     "text": [
      "Train on 25000 samples, validate on 25000 samples\n",
      "Epoch 1/3\n",
      "25000/25000 [==============================] - 2s 95us/step - loss: 0.4161 - acc: 0.8140 - val_loss: 0.3351 - val_acc: 0.8581\n",
      "Epoch 2/3\n",
      "25000/25000 [==============================] - 2s 67us/step - loss: 0.3245 - acc: 0.8640 - val_loss: 0.3296 - val_acc: 0.8608\n",
      "Epoch 3/3\n",
      "25000/25000 [==============================] - 2s 66us/step - loss: 0.3157 - acc: 0.8661 - val_loss: 0.3308 - val_acc: 0.8594\n"
     ]
    }
   ],
   "source": [
    "# Загрузить библиотеки\n",
    "import numpy as np\n",
    "from keras.datasets import imdb\n",
    "from keras.preprocessing.text import Tokenizer\n",
    "from keras import models\n",
    "from keras import layers\n",
    "\n",
    "# Задать начальное значение \n",
    "# для генератора псевдослучайных чисел\n",
    "np.random.seed(0)\n",
    "\n",
    "# Задать желаемое количество признаков\n",
    "number_of_features = 1000\n",
    "\n",
    "# Загрузить данные и вектор целей из данных с отзывами о кинофильмах\n",
    "(data_train, target_train), (data_test, target_test) = imdb.load_data(\n",
    "    num_words=number_of_features)\n",
    "\n",
    "# Конвертировать данные с отзывами о кинофильмах в\n",
    "# матрицу признаков в кодировке с одним активным состоянием\n",
    "tokenizer = Tokenizer(num_words=number_of_features)\n",
    "features_train = tokenizer.sequences_to_matrix(data_train, mode=\"binary\")\n",
    "features_test = tokenizer.sequences_to_matrix(data_test, mode=\"binary\")\n",
    "\n",
    "# Инициализировать нейронную сеть\n",
    "network = models.Sequential()\n",
    "\n",
    "# Добавить полносвязный слой с активационной функцией ReLU\n",
    "network.add(layers.Dense(units=16, activation=\"relu\", \n",
    "                         input_shape=(number_of_features,)))\n",
    "\n",
    "# Добавить полносвязный слой с активационной функцией ReLU\n",
    "network.add(layers.Dense(units=16, activation=\"relu\"))\n",
    "\n",
    "# Добавить полносвязный слой с сигмоидальной активационной функцией\n",
    "network.add(layers.Dense(units=1, activation=\"sigmoid\"))\n",
    "\n",
    "# Скомпилировать нейронную сеть\n",
    "network.compile(\n",
    "    loss=\"binary_crossentropy\", # Перекрестная энтропия\n",
    "    optimizer=\"rmsprop\",   # Распространение среднеквдадратической ошибки\n",
    "    metrics=[\"accuracy\"])  # Точностный показатель результативности\n",
    "\n",
    "# Натренировать нейронную сеть\n",
    "history = network.fit(\n",
    "    features_train, # Признаки\n",
    "    target_train,   # Вектор целей\n",
    "    epochs=3,       # Количество эпох\n",
    "    verbose=1,      # Печатать описание после каждой эпохи\n",
    "    batch_size=100, # Количество наблюдений на пакет\n",
    "    validation_data=(features_test, target_test)) # Тестовые данные"
   ]
  },
  {
   "cell_type": "code",
   "execution_count": 5,
   "metadata": {},
   "outputs": [
    {
     "data": {
      "text/plain": [
       "(25000, 1000)"
      ]
     },
     "execution_count": 5,
     "metadata": {},
     "output_type": "execute_result"
    }
   ],
   "source": [
    "# Взглянуть на форму матрицы признаков\n",
    "features_train.shape"
   ]
  },
  {
   "cell_type": "markdown",
   "metadata": {},
   "source": [
    "> <b>20.4 Тренировка мультиклассового классификатора"
   ]
  },
  {
   "cell_type": "code",
   "execution_count": 6,
   "metadata": {},
   "outputs": [],
   "source": [
    "# Загрузить библиотеки\n",
    "import numpy as np\n",
    "from keras.datasets import reuters\n",
    "from keras.utils.np_utils import to_categorical\n",
    "from keras.preprocessing.text import Tokenizer\n",
    "from keras import models\n",
    "from keras import layers\n",
    "\n",
    "# Задать начальное значение для ГПСЧ\n",
    "np.random.seed(0)\n",
    "\n",
    "# Задать желаемое количество признаков\n",
    "number_of_features = 5000\n",
    "\n",
    "# Загрузить признаковые и целевые данные\n",
    "data = reuters.load_data(num_words=number_of_features)\n",
    "(data_train, target_vector_train), (data_test, target_vector_test) = data\n",
    "\n",
    "# Конвертировать признакове данные в\n",
    "# матрицу признаков в кодировке с одним активным состоянием\n",
    "tokenizer = Tokenizer(num_words=number_of_features)\n",
    "features_train = tokenizer.sequences_to_matrix(data_train, mode=\"binary\")\n",
    "features_test = tokenizer.sequences_to_matrix(data_test, mode=\"binary\")\n",
    "\n",
    "# Преобразовать вектор целей в кодировке с одним активным состоянием,\n",
    "# чтобы создать матрицу целей\n",
    "target_train = to_categorical(target_vector_train)\n",
    "target_test = to_categorical(target_vector_test)\n",
    "\n",
    "# Инициализировать нейронную сеть\n",
    "network = models.Sequential()\n",
    "\n",
    "# Добавить полносвязный слой с активационной функцией ReLU\n",
    "network.add(layers.Dense(\n",
    "    units=100,\n",
    "    activation=\"relu\",\n",
    "    input_shape=(number_of_features,)))\n",
    "\n",
    "# Добавить полносвязный слой с активационной функцией ReLU\n",
    "network.add(layers.Dense(units=100, activation=\"relu\"))\n",
    "\n",
    "# Добавить полносвязный слой с активационной функцией softmax\n",
    "network.add(layers.Dense(units=46, activation=\"softmax\"))\n",
    "\n",
    "# Скомпилировать нейронную сеть\n",
    "network.compile(\n",
    "    loss=\"categorical_crossentropy\", # Перекрестная энтропия\n",
    "    optimizer=\"rmsprop\",  # Распространение СКО\n",
    "    metrics=[\"accuracy\"]) # Точностный показатель результативности\n",
    "\n",
    "# Натренировать нейронную сеть\n",
    "history = network.fit(\n",
    "    features_train, # Признаки\n",
    "    target_train,   # Цель\n",
    "    epochs=3,       # Три эпохи\n",
    "    verbose=0,      # Вывода нет\n",
    "    batch_size=100, # Количество наблюдений на пакет\n",
    "    validation_data=(features_test, target_test)) # Тестовые данные"
   ]
  },
  {
   "cell_type": "code",
   "execution_count": 7,
   "metadata": {},
   "outputs": [
    {
     "data": {
      "text/plain": [
       "array([[0., 0., 0., ..., 0., 0., 0.],\n",
       "       [0., 0., 0., ..., 0., 0., 0.],\n",
       "       [0., 0., 0., ..., 0., 0., 0.],\n",
       "       ...,\n",
       "       [0., 0., 0., ..., 0., 0., 0.],\n",
       "       [0., 0., 0., ..., 0., 0., 0.],\n",
       "       [0., 0., 0., ..., 0., 0., 0.]], dtype=float32)"
      ]
     },
     "execution_count": 7,
     "metadata": {},
     "output_type": "execute_result"
    }
   ],
   "source": [
    "# Осмотреть матрицу целей\n",
    "target_train"
   ]
  },
  {
   "cell_type": "markdown",
   "metadata": {},
   "source": [
    "> <b>20.5 Тренировка регрессора"
   ]
  },
  {
   "cell_type": "code",
   "execution_count": 8,
   "metadata": {},
   "outputs": [],
   "source": [
    "# Загрузить библиотеки\n",
    "import numpy as np\n",
    "from keras.preprocessing.text import Tokenizer\n",
    "from keras import models\n",
    "from keras import layers\n",
    "from sklearn.datasets import make_regression\n",
    "from sklearn.model_selection import train_test_split\n",
    "from sklearn import preprocessing\n",
    "\n",
    "# Задать начальное значение для ГПСЧ\n",
    "np.random.seed(0)\n",
    "\n",
    "# Сгенерировать матрицу признаков и вектор целей\n",
    "features, target = make_regression(n_samples = 10000,\n",
    "                                   n_features = 3,\n",
    "                                   n_informative = 3,\n",
    "                                   n_targets = 1,\n",
    "                                   noise = 0.0,\n",
    "                                   random_state = 0)\n",
    "\n",
    "# Разделить данные на тренировочный и тестовый наборы\n",
    "features_train, features_test, target_train, target_test = train_test_split(\n",
    "    features, target, test_size=0.33, random_state=0)\n",
    "\n",
    "# Инициализировать нейронную сеть\n",
    "network = models.Sequential()\n",
    "\n",
    "# Добавить полносвязный слой с активационной функцией ReLU\n",
    "network.add(layers.Dense(\n",
    "    units=32,\n",
    "    activation=\"relu\",\n",
    "    input_shape=(features_train.shape[1],)))\n",
    "\n",
    "# Добавить полносвязный слой с активационной функцией ReLU\n",
    "network.add(layers.Dense(units=32, activation=\"relu\"))\n",
    "\n",
    "# Добавить полносвязный слой без активационной функции\n",
    "network.add(layers.Dense(units=1))\n",
    "\n",
    "# Скомпилировать нейронную сеть\n",
    "network.compile(\n",
    "    loss=\"mse\",          # Среднеквдадратическая ошибка\n",
    "    optimizer=\"RMSprop\", # Оптимизационный алгоритм\n",
    "    metrics=[\"mse\"])     # Среднеквдадратическая ошибка\n",
    "\n",
    "# Натренировать нейронную сеть\n",
    "history = network.fit(\n",
    "    features_train, # Признаки\n",
    "    target_train,   # Вектор целей\n",
    "    epochs=10,      # Количество эпох\n",
    "    verbose=0,      # Вывода нет\n",
    "    batch_size=100, # Количество наблюдений на пакет\n",
    "    validation_data=(features_test, target_test)) # Тестовые данные"
   ]
  },
  {
   "cell_type": "markdown",
   "metadata": {},
   "source": [
    "> <b>20.6 Выполнение предсказаний"
   ]
  },
  {
   "cell_type": "code",
   "execution_count": 9,
   "metadata": {},
   "outputs": [
    {
     "name": "stderr",
     "output_type": "stream",
     "text": [
      "c:\\python36\\lib\\site-packages\\keras\\callbacks.py:120: UserWarning: Method on_batch_end() is slow compared to the batch update (0.136578). Check your callbacks.\n",
      "  % delta_t_median)\n"
     ]
    }
   ],
   "source": [
    "# Загрузить библиотеки\n",
    "import numpy as np\n",
    "from keras.datasets import imdb\n",
    "from keras.preprocessing.text import Tokenizer\n",
    "from keras import models\n",
    "from keras import layers\n",
    "\n",
    "# Задать начальное значение для ГПСЧ\n",
    "np.random.seed(0)\n",
    "\n",
    "# Задать желаемое количество признаков\n",
    "number_of_features = 10000\n",
    "\n",
    "# Загрузить данные и вектор целей из набора данных IMDB о кинофильмах \n",
    "(data_train, target_train), (data_test, target_test) = imdb.load_data(\n",
    "    num_words=number_of_features)\n",
    "\n",
    "# Конвертировать данные IMDB о кинофильмах в\n",
    "# матрицу признаков в кодировке с одним активным состоянием \n",
    "tokenizer = Tokenizer(num_words=number_of_features)\n",
    "features_train = tokenizer.sequences_to_matrix(data_train, mode=\"binary\")\n",
    "features_test = tokenizer.sequences_to_matrix(data_test, mode=\"binary\")\n",
    "\n",
    "# Инициализировать нейронную сеть\n",
    "network = models.Sequential()\n",
    "\n",
    "# Добавить полносвязный слой с активационной функцией ReLU\n",
    "network.add(layers.Dense(\n",
    "    units=16,\n",
    "    activation=\"relu\",\n",
    "    input_shape=(number_of_features,)))\n",
    "\n",
    "# Добавить полносвязный слой с активационной функцией ReLU\n",
    "network.add(layers.Dense(units=16, activation=\"relu\"))\n",
    "\n",
    "# Добавить полносвязный слой с сигмоидальной активационной функцией\n",
    "network.add(layers.Dense(units=1, activation=\"sigmoid\"))\n",
    "\n",
    "# Скомпилировать нейронную сеть\n",
    "network.compile(\n",
    "    loss=\"binary_crossentropy\", # Перекрестная энтропия\n",
    "    optimizer=\"rmsprop\",  # Распространение СКО\n",
    "    metrics=[\"accuracy\"]) # Точностный показатель результативности\n",
    "\n",
    "# Натренировать нейронную сеть\n",
    "history = network.fit(\n",
    "    features_train, # Признаки\n",
    "    target_train,   # Вектор целей\n",
    "    epochs=3,       # Количество эпох\n",
    "    verbose=0,      # Вывода нет\n",
    "    batch_size=100, # Количество наблюдений на пакет\n",
    "    validation_data=(features_test, target_test)) # Тестовые данные\n",
    "\n",
    "# Предсказать классы тестового набора\n",
    "predicted_target = network.predict(features_test)"
   ]
  },
  {
   "cell_type": "code",
   "execution_count": 10,
   "metadata": {},
   "outputs": [
    {
     "data": {
      "text/plain": [
       "array([0.05640661], dtype=float32)"
      ]
     },
     "execution_count": 10,
     "metadata": {},
     "output_type": "execute_result"
    }
   ],
   "source": [
    "# Взглянуть на вероятность, что первое наблюдение принадлежит классу 1\n",
    "predicted_target[0]"
   ]
  },
  {
   "cell_type": "markdown",
   "metadata": {},
   "source": [
    "> <b>20.7 Визуализация истории процесса тренировки"
   ]
  },
  {
   "cell_type": "markdown",
   "metadata": {},
   "source": [
    "*Определение стиля изображения*"
   ]
  },
  {
   "cell_type": "code",
   "execution_count": 1,
   "metadata": {},
   "outputs": [],
   "source": [
    "# Заставить все графики в блокноте Jupyter\n",
    "# в дальнейшем появляться локально \n",
    "%matplotlib inline\n",
    "\n",
    "# переопределение стиля\n",
    "import matplotlib.pyplot as plt\n",
    "from matplotlib import rcParams\n",
    "rcParams['font.family']     = 'sans-serif'\n",
    "rcParams['font.sans-serif'] = ['Ubuntu Condensed']\n",
    "rcParams['figure.figsize']  = (4, 3)\n",
    "rcParams['legend.fontsize'] = 10\n",
    "rcParams['xtick.labelsize'] = 9\n",
    "rcParams['ytick.labelsize'] = 9"
   ]
  },
  {
   "cell_type": "code",
   "execution_count": 2,
   "metadata": {},
   "outputs": [
    {
     "name": "stderr",
     "output_type": "stream",
     "text": [
      "c:\\python36\\lib\\site-packages\\h5py\\__init__.py:36: FutureWarning: Conversion of the second argument of issubdtype from `float` to `np.floating` is deprecated. In future, it will be treated as `np.float64 == np.dtype(float).type`.\n",
      "  from ._conv import register_converters as _register_converters\n",
      "Using TensorFlow backend.\n"
     ]
    },
    {
     "data": {
      "image/png": "[encoded data removed]",
      "text/plain": [
       "<matplotlib.figure.Figure at 0x1a8c4bc70f0>"
      ]
     },
     "metadata": {},
     "output_type": "display_data"
    }
   ],
   "source": [
    "# Загрузить библиотеки\n",
    "import numpy as np\n",
    "from keras.datasets import imdb\n",
    "from keras.preprocessing.text import Tokenizer\n",
    "from keras import models\n",
    "from keras import layers\n",
    "import matplotlib.pyplot as plt\n",
    "\n",
    "# Задать начальное значение для ГПСЧ\n",
    "np.random.seed(0)\n",
    "\n",
    "# Задать желаемое количество признаков\n",
    "number_of_features = 10000\n",
    "\n",
    "# Загрузить данные и вектор целей из данных с отзывами о кинофильмах \n",
    "(data_train, target_train), (data_test, target_test) = imdb.load_data(\n",
    "    num_words=number_of_features)\n",
    "\n",
    "# Конвертировать данные отзывов о кинофильмах в\n",
    "# матрицу признаков в кодировке с одним активным состоянием \n",
    "tokenizer = Tokenizer(num_words=number_of_features)\n",
    "features_train = tokenizer.sequences_to_matrix(data_train, mode=\"binary\")\n",
    "features_test = tokenizer.sequences_to_matrix(data_test, mode=\"binary\")\n",
    "\n",
    "# Инициализировать нейронную сеть\n",
    "network = models.Sequential()\n",
    "\n",
    "# Добавить полносвязный слой с активационной функцией ReLU\n",
    "network.add(layers.Dense(\n",
    "    units=16,\n",
    "    activation=\"relu\",\n",
    "    input_shape=(number_of_features,)))\n",
    "\n",
    "# Добавить полносвязный слой с активационной функцией ReLU\n",
    "network.add(layers.Dense(units=16, activation=\"relu\"))\n",
    "\n",
    "# Добавить полносвязный слой с сигмоидальной активационной функцией\n",
    "network.add(layers.Dense(units=1, activation=\"sigmoid\"))\n",
    "\n",
    "# Скомпилировать нейронную сеть\n",
    "network.compile(\n",
    "    loss=\"binary_crossentropy\", # Перекрестная энтропия\n",
    "    optimizer=\"rmsprop\",  # Распространение СКО\n",
    "    metrics=[\"accuracy\"]) # Точностный показатель результативности\n",
    "\n",
    "# Натренировать нейронную сеть\n",
    "history = network.fit(\n",
    "    features_train,  # Признаки\n",
    "    target_train,    # Цели\n",
    "    epochs=15,       # Количество эпох\n",
    "    verbose=0,       # Вывода нет\n",
    "    batch_size=1000, # Количество наблюдений на пакет\n",
    "    validation_data=(features_test, target_test)) # Тестовые данные\n",
    "\n",
    "# Получить истории потерь на тренировочных и тестовых данных  \n",
    "training_loss = history.history[\"loss\"]\n",
    "test_loss = history.history[\"val_loss\"]\n",
    "\n",
    "# Создать счетчик количества эпох\n",
    "epoch_count = range(1, len(training_loss) + 1)\n",
    "\n",
    "# Визуализировать истории потери\n",
    "plt.plot(epoch_count, training_loss, \"r--\")\n",
    "plt.plot(epoch_count, test_loss, \"b-\")\n",
    "plt.legend([\"Потеря на тренировке\", \n",
    "            \"Потеря на тестировании\"])\n",
    "plt.xlabel(\"Эпоха\")\n",
    "plt.ylabel(\"Потеря\")\n",
    "plt.tight_layout()\n",
    "plt.savefig('pics/20_01.png', dpi=600)\n",
    "plt.show()"
   ]
  },
  {
   "cell_type": "code",
   "execution_count": 3,
   "metadata": {},
   "outputs": [
    {
     "data": {
      "image/png": "[encoded data removed]",
      "text/plain": [
       "<matplotlib.figure.Figure at 0x1a8cbe6da58>"
      ]
     },
     "metadata": {},
     "output_type": "display_data"
    }
   ],
   "source": [
    "# Получить истории потерь на тренировочных и тестовых данных \n",
    "training_accuracy = history.history[\"acc\"]\n",
    "test_accuracy = history.history[\"val_acc\"]\n",
    "plt.plot(epoch_count, training_accuracy, \"r--\")\n",
    "plt.plot(epoch_count, test_accuracy, \"b-\")\n",
    "\n",
    "# Визуализировать историю потери\n",
    "plt.legend([\"Потеря на тренировке\", \n",
    "            \"Потеря на тестировании\"])\n",
    "plt.xlabel(\"Эпоха\")\n",
    "plt.ylabel(\"Оценка точности\")\n",
    "plt.tight_layout()\n",
    "plt.savefig('pics/20_02.png', dpi=600)\n",
    "plt.show()"
   ]
  },
  {
   "cell_type": "markdown",
   "metadata": {},
   "source": [
    "> <b>20.8 Снижение переподгонки с помощью регуляризации весов"
   ]
  },
  {
   "cell_type": "code",
   "execution_count": null,
   "metadata": {},
   "outputs": [],
   "source": [
    "# Загрузить библиотеки\n",
    "import numpy as np\n",
    "from keras.datasets import imdb\n",
    "from keras.preprocessing.text import Tokenizer\n",
    "from keras import models\n",
    "from keras import layers\n",
    "from keras import regularizers\n",
    "\n",
    "# Задать начальное значение для ГПСЧ\n",
    "np.random.seed(0)\n",
    "\n",
    "# Задать желаемое количество признаков\n",
    "number_of_features = 1000\n",
    "\n",
    "# Загрузить данные и вектор целей из данных с отзывами о кинофильмах\n",
    "(data_train, target_train), (data_test, target_test) = imdb.load_data(\n",
    "    num_words=number_of_features)\n",
    "\n",
    "# Конвертировать данные отзывов о кинофильмах в\n",
    "# матрицу признаков в кодировке с одним активным состоянием\n",
    "tokenizer = Tokenizer(num_words=number_of_features)\n",
    "features_train = tokenizer.sequences_to_matrix(data_train, mode=\"binary\")\n",
    "features_test = tokenizer.sequences_to_matrix(data_test, mode=\"binary\")\n",
    "\n",
    "# Инициализировать нейронную сеть\n",
    "network = models.Sequential()\n",
    "\n",
    "# Добавить полносвязный слой с активационной функцией ReLU\n",
    "network.add(layers.Dense(\n",
    "    units=16,\n",
    "    activation=\"relu\",\n",
    "    kernel_regularizer=regularizers.l2(0.01),\n",
    "    input_shape=(number_of_features,)))\n",
    "\n",
    "# Добавить полносвязный слой с активационной функцией ReLU\n",
    "network.add(layers.Dense(\n",
    "    units=16,\n",
    "    kernel_regularizer=regularizers.l2(0.01),\n",
    "    activation=\"relu\"))\n",
    "\n",
    "# Добавить полносвязный слой с сигмоидальной активационной функцией\n",
    "network.add(layers.Dense(units=1, activation=\"sigmoid\"))\n",
    "\n",
    "# Скомпилировать нейронную сеть\n",
    "network.compile(\n",
    "    loss=\"binary_crossentropy\", # Перекрестная энтропия\n",
    "    optimizer=\"rmsprop\",  # Распространение СКО\n",
    "    metrics=[\"accuracy\"]) # Точностный показатель результативности\n",
    "\n",
    "# Натренировать нейронную сеть\n",
    "history = network.fit(\n",
    "    features_train, # Признаки\n",
    "    target_train,   # Вектор целей\n",
    "    epochs=3,       # Количество эпох\n",
    "    verbose=0,      # Вывода нет\n",
    "    batch_size=100, # Количество наблюдений на пакет\n",
    "    validation_data=(features_test, target_test)) # Тестовые данные"
   ]
  },
  {
   "cell_type": "markdown",
   "metadata": {},
   "source": [
    "> <b>20.9 Снижение переподгонки с помощью ранней остановки"
   ]
  },
  {
   "cell_type": "code",
   "execution_count": null,
   "metadata": {},
   "outputs": [],
   "source": [
    "# Загрузить библиотеки\n",
    "import numpy as np\n",
    "from keras.datasets import imdb\n",
    "from keras.preprocessing.text import Tokenizer\n",
    "from keras import models\n",
    "from keras import layers\n",
    "from keras.callbacks import EarlyStopping, ModelCheckpoint\n",
    "\n",
    "# Задать начальное значение для ГПСЧ\n",
    "np.random.seed(0)\n",
    "\n",
    "# Задать желаемое количество признаков\n",
    "number_of_features = 1000\n",
    "\n",
    "# Загрузить данные и вектор целей из данных с отзывами о кинофильмах\n",
    "(data_train, target_train), (data_test, target_test) = imdb.load_data(\n",
    "    num_words=number_of_features)\n",
    "\n",
    "# Конвертировать данные отзывов о кинофильмах в\n",
    "# матрицу признаков в кодировке с одним активным состоянием\n",
    "tokenizer = Tokenizer(num_words=number_of_features)\n",
    "features_train = tokenizer.sequences_to_matrix(data_train, mode=\"binary\")\n",
    "features_test = tokenizer.sequences_to_matrix(data_test, mode=\"binary\")\n",
    "\n",
    "# Инициализировать нейронную сеть\n",
    "network = models.Sequential()\n",
    "\n",
    "# Добавить полносвязный слой с активационной функцией ReLU\n",
    "network.add(layers.Dense(\n",
    "    units=16,\n",
    "    activation=\"relu\",\n",
    "    input_shape=(number_of_features,)))\n",
    "\n",
    "# Добавить полносвязный слой с активационной функцией ReLU\n",
    "network.add(layers.Dense(units=16, activation=\"relu\"))\n",
    "\n",
    "# Добавить полносвязный слой с сигмоидальной активационной функцией\n",
    "network.add(layers.Dense(units=1, activation=\"sigmoid\"))\n",
    "\n",
    "# Скомпилировать нейронную сеть\n",
    "network.compile(\n",
    "    loss=\"binary_crossentropy\", # Перекрестная энтропия\n",
    "    optimizer=\"rmsprop\",  # Распространение СКО\n",
    "    metrics=[\"accuracy\"]) # Точностный показатель результативности\n",
    "\n",
    "# Задать функции обратного вызова для ранней остановки тренировки и \n",
    "# сохранения наилучшей достигнутой модели\n",
    "callbacks = [EarlyStopping(monitor=\"val_loss\", patience=2),\n",
    "             ModelCheckpoint(filepath=\"best_model.h5\",\n",
    "             monitor=\"val_loss\",\n",
    "             save_best_only=True)]\n",
    "\n",
    "# Натренировать нейронную сеть\n",
    "history = network.fit(\n",
    "    features_train, # Признаки\n",
    "    target_train,   # Вектор целей\n",
    "    epochs=20,      # Количество эпох\n",
    "    callbacks=callbacks, # Ранняя остановка\n",
    "    verbose=0,      # Печатать описание после каждой эпохи\n",
    "    batch_size=100, # Количество наблюдений на пакет\n",
    "    validation_data=(features_test, target_test)) # Тестовые данные"
   ]
  },
  {
   "cell_type": "markdown",
   "metadata": {},
   "source": [
    "> <b>20.10 Снижение переподгонки с помощью отсева"
   ]
  },
  {
   "cell_type": "code",
   "execution_count": null,
   "metadata": {},
   "outputs": [],
   "source": [
    "# Загрузить библиотеки\n",
    "import numpy as np\n",
    "from keras.datasets import imdb\n",
    "from keras.preprocessing.text import Tokenizer\n",
    "from keras import models\n",
    "from keras import layers\n",
    "\n",
    "# Задать начальное значение для ГПСЧ\n",
    "np.random.seed(0)\n",
    "\n",
    "# Задать желаемое количество признаков\n",
    "number_of_features = 1000\n",
    "\n",
    "# Загрузить данные и вектор целей из данных с отзывами о кинофильмах\n",
    "(data_train, target_train), (data_test, target_test) = imdb.load_data(\n",
    "    num_words=number_of_features)\n",
    "\n",
    "# Конвертировать данные отзывов о кинофильмах в\n",
    "# матрицу признаков в кодировке с одним активным состоянием\n",
    "tokenizer = Tokenizer(num_words=number_of_features)\n",
    "features_train = tokenizer.sequences_to_matrix(data_train, mode=\"binary\")\n",
    "features_test = tokenizer.sequences_to_matrix(data_test, mode=\"binary\")\n",
    "\n",
    "# Инициализировать нейронную сеть\n",
    "network = models.Sequential()\n",
    "\n",
    "# Добавить отсеивающий слой для входного слоя\n",
    "network.add(layers.Dropout(0.2, input_shape=(number_of_features,)))\n",
    "\n",
    "# Добавить полносвязный слой с активационной функцией ReLU\n",
    "network.add(layers.Dense(units=16, activation=\"relu\"))\n",
    "\n",
    "# Добавить отсеивающий слой для предыдущего скрытого слоя\n",
    "network.add(layers.Dropout(0.5))\n",
    "\n",
    "# Добавить полносвязный слой с активационной функцией ReLU\n",
    "network.add(layers.Dense(units=16, activation=\"relu\"))\n",
    "\n",
    "# Добавить отсеивающий слой для предыдущего скрытого слоя\n",
    "network.add(layers.Dropout(0.5))\n",
    "\n",
    "# Добавить полносвязный слой с сигмоидальной активационной функцией\n",
    "network.add(layers.Dense(units=1, activation=\"sigmoid\"))\n",
    "\n",
    "# Скомпилировать нейронную сеть\n",
    "network.compile(\n",
    "    loss=\"binary_crossentropy\", # Перекрестная энтропия\n",
    "    optimizer=\"rmsprop\",  # Распространение СКО\n",
    "    metrics=[\"accuracy\"]) # Точностный показатель результативности\n",
    "\n",
    "# Натренировать нейронную сеть\n",
    "history = network.fit(\n",
    "    features_train, # Признаки\n",
    "    target_train,   # Вектор целей\n",
    "    epochs=3,       # Количество эпох\n",
    "    verbose=0,      # Вывода нет\n",
    "    batch_size=100, # Количество наблюдений на пакет\n",
    "    validation_data=(features_test, target_test)) # Тестовые данные"
   ]
  },
  {
   "cell_type": "markdown",
   "metadata": {},
   "source": [
    "> <b>20.11 Сохранение процесса тренировки модели"
   ]
  },
  {
   "cell_type": "code",
   "execution_count": null,
   "metadata": {},
   "outputs": [],
   "source": [
    "# Загрузить библиотеки\n",
    "import numpy as np\n",
    "from keras.datasets import imdb\n",
    "from keras.preprocessing.text import Tokenizer\n",
    "from keras import models\n",
    "from keras import layers\n",
    "from keras.callbacks import ModelCheckpoint\n",
    "\n",
    "# Задать начальное значение для ГПСЧ\n",
    "np.random.seed(0)\n",
    "\n",
    "# Задать желаемое количество признаков\n",
    "number_of_features = 1000\n",
    "\n",
    "# Загрузить данные и вектор целей из данных с отзывами о кинофильмах\n",
    "(data_train, target_train), (data_test, target_test) = imdb.load_data(\n",
    "    num_words=number_of_features)\n",
    "\n",
    "# Конвертировать данные отзывов о кинофильмах в\n",
    "# матрицу признаков в кодировке с одним активным состоянием\n",
    "tokenizer = Tokenizer(num_words=number_of_features)\n",
    "features_train = tokenizer.sequences_to_matrix(data_train, mode=\"binary\")\n",
    "features_test = tokenizer.sequences_to_matrix(data_test, mode=\"binary\")\n",
    "\n",
    "# Инициализировать нейронную сеть\n",
    "network = models.Sequential()\n",
    "\n",
    "# Добавить полносвязный слой с активационной функцией ReLU\n",
    "network.add(layers.Dense(\n",
    "    units=16,\n",
    "    activation=\"relu\",\n",
    "    input_shape=(number_of_features,)))\n",
    "\n",
    "# Добавить полносвязный слой с активационной функцией ReLU\n",
    "network.add(layers.Dense(units=16, activation=\"relu\"))\n",
    "\n",
    "# Добавить полносвязный слой с сигмоидальной активационной функцией\n",
    "network.add(layers.Dense(units=1, activation=\"sigmoid\"))\n",
    "\n",
    "# Скомпилировать нейронную сеть\n",
    "network.compile(\n",
    "    loss=\"binary_crossentropy\", # Перекрестная энтропия\n",
    "    optimizer=\"rmsprop\",  # Распространение СКО\n",
    "    metrics=[\"accuracy\"]) # Точностный показатель результативности\n",
    "\n",
    "# Задать функции обратного вызова для ранней остановки тренировки и \n",
    "# сохранения наилучшей достигнутой модели\n",
    "checkpoint = [ModelCheckpoint(filepath=\"models.hdf5\")]\n",
    "\n",
    "# Натренировать нейронную сеть\n",
    "history = network.fit(\n",
    "    features_train, # Признаки\n",
    "    target_train,   # Вектор целей\n",
    "    epochs=3,       # Количество эпох\n",
    "    callbacks=checkpoint, # Контрольная точка\n",
    "    verbose=0,      # Вывода нет\n",
    "    batch_size=100, # Количество наблюдений на пакет\n",
    "    validation_data=(features_test, target_test)) # Тестовые данные"
   ]
  },
  {
   "cell_type": "markdown",
   "metadata": {},
   "source": [
    "> <b>20.12 k-блочная перекрестная проверка нейронных сетей"
   ]
  },
  {
   "cell_type": "code",
   "execution_count": 4,
   "metadata": {},
   "outputs": [
    {
     "data": {
      "text/plain": [
       "array([0.90491901, 0.77617761, 0.86798679])"
      ]
     },
     "execution_count": 4,
     "metadata": {},
     "output_type": "execute_result"
    }
   ],
   "source": [
    "# Загрузить библиотеки\n",
    "import numpy as np\n",
    "from keras import models\n",
    "from keras import layers\n",
    "from keras.wrappers.scikit_learn import KerasClassifier\n",
    "from sklearn.model_selection import cross_val_score\n",
    "from sklearn.datasets import make_classification\n",
    "\n",
    "# Задать начальное значение для ГПСЧ\n",
    "np.random.seed(0)\n",
    "\n",
    "# Количество признаков\n",
    "number_of_features = 100\n",
    "\n",
    "# Сгененировать матрицу признаков и вектор целей\n",
    "features, target = make_classification(n_samples = 10000,\n",
    "                                       n_features = number_of_features,\n",
    "                                       n_informative = 3,\n",
    "                                       n_redundant = 0,\n",
    "                                       n_classes = 2,\n",
    "                                       weights = [.5, .5],\n",
    "                                       random_state = 0)\n",
    "\n",
    "# Создать функцию, возвращающую скомпилированную сеть\n",
    "def create_network():\n",
    "\n",
    "    # Инициализировать нейронную сеть\n",
    "    network = models.Sequential()\n",
    "\n",
    "    # Добавить полносвязный слой с активационной функцией ReLU\n",
    "    network.add(layers.Dense(\n",
    "        units=16, \n",
    "        activation=\"relu\", \n",
    "        input_shape=(number_of_features,)))\n",
    "\n",
    "    # Добавить полносвязный слой с активационной функцией ReLU\n",
    "    network.add(layers.Dense(units=16, activation=\"relu\"))\n",
    "\n",
    "    # Добавить полносвязный слой с сигмоидальной активационной функцией\n",
    "    network.add(layers.Dense(units=1, activation=\"sigmoid\"))\n",
    "\n",
    "    # Скомпилировать нейронную сеть\n",
    "    network.compile(\n",
    "        loss=\"binary_crossentropy\", # Перекрестная энтропия\n",
    "        optimizer=\"rmsprop\",  # Распространение СКО\n",
    "        metrics=[\"accuracy\"]) # Точностный показатель результативности\n",
    "\n",
    "    # Вернуть скомпилированную сеть\n",
    "    return network\n",
    "\n",
    "# Обернуть модель Keras, чтобы она могла \n",
    "# использоваться библиотекой scikit-learn\n",
    "neural_network = KerasClassifier(build_fn=create_network,\n",
    "                                 epochs=10,\n",
    "                                 batch_size=100,\n",
    "                                 verbose=0)\n",
    "\n",
    "# Оценить нейронную сеть с помощью \n",
    "# трехблочной перекрестной проверки\n",
    "cross_val_score(neural_network, features, target, cv=3)"
   ]
  },
  {
   "cell_type": "markdown",
   "metadata": {},
   "source": [
    "> <b>20.13 Тонкая настройка нейронных сетей"
   ]
  },
  {
   "cell_type": "code",
   "execution_count": 5,
   "metadata": {},
   "outputs": [],
   "source": [
    "# Загрузить библиотеки\n",
    "import numpy as np\n",
    "from keras import models\n",
    "from keras import layers\n",
    "from keras.wrappers.scikit_learn import KerasClassifier\n",
    "from sklearn.model_selection import GridSearchCV\n",
    "from sklearn.datasets import make_classification\n",
    "\n",
    "# Задать начальное значение для ГПСЧ\n",
    "np.random.seed(0)\n",
    "\n",
    "# Количество признаков\n",
    "number_of_features = 100\n",
    "\n",
    "# Сгененировать матрицу признаков и вектор целей\n",
    "features, target = make_classification(n_samples = 10000,\n",
    "                                       n_features = number_of_features,\n",
    "                                       n_informative = 3,\n",
    "                                       n_redundant = 0,\n",
    "                                       n_classes = 2,\n",
    "                                       weights = [.5, .5],\n",
    "                                       random_state = 0)\n",
    "\n",
    "# Создать функцию, возвращающую скомпилированную сеть\n",
    "def create_network(optimizer=\"rmsprop\"):\n",
    "\n",
    "    # Инициализировать нейронную сеть\n",
    "    network = models.Sequential()\n",
    "\n",
    "    # Добавить полносвязный слой с активационной функцией ReLU\n",
    "    network.add(layers.Dense(\n",
    "        units=16,\n",
    "        activation=\"relu\",\n",
    "        input_shape=(number_of_features,)))\n",
    "\n",
    "    # Добавить полносвязный слой с активационной функцией ReLU\n",
    "    network.add(layers.Dense(units=16, activation=\"relu\"))\n",
    "\n",
    "    # Добавить полносвязный слой с сигмоидальной активационной функцией\n",
    "    network.add(layers.Dense(units=1, activation=\"sigmoid\"))\n",
    "\n",
    "    # Скомпилировать нейронную сеть\n",
    "    network.compile(\n",
    "        loss=\"binary_crossentropy\", # Перекрестная энтропия\n",
    "        optimizer=optimizer,  # Оптимизатор\n",
    "        metrics=[\"accuracy\"]) # Точностный показатель результативности\n",
    "\n",
    "    # Вернуть скомпилированную сеть\n",
    "    return network\n",
    "\n",
    "# Обернуть модель Keras, чтобы она могла \n",
    "# использоваться библиотекой scikit-learn\n",
    "neural_network = KerasClassifier(build_fn=create_network, verbose=0)\n",
    "\n",
    "# Создать гиперпараметрическое пространство\n",
    "epochs = [5, 10]\n",
    "batches = [5, 10, 100]\n",
    "optimizers = [\"rmsprop\", \"adam\"]\n",
    "\n",
    "# Создать словарь вариантов гиперпараметров\n",
    "hyperparameters = dict(optimizer=optimizers, epochs=epochs, batch_size=batches)\n",
    "\n",
    "# Создать объект решеточного поиска\n",
    "grid = GridSearchCV(estimator=neural_network, param_grid=hyperparameters)\n",
    "\n",
    "# Выполнить подгонку объекта решеточного поиска\n",
    "grid_result = grid.fit(features, target)"
   ]
  },
  {
   "cell_type": "code",
   "execution_count": 6,
   "metadata": {},
   "outputs": [
    {
     "data": {
      "text/plain": [
       "{'batch_size': 10, 'epochs': 5, 'optimizer': 'adam'}"
      ]
     },
     "execution_count": 6,
     "metadata": {},
     "output_type": "execute_result"
    }
   ],
   "source": [
    "# Взглянуть на гиперпараметры наилучшей нейронной сети\n",
    "grid_result.best_params_"
   ]
  },
  {
   "cell_type": "markdown",
   "metadata": {},
   "source": [
    "> <b>20.14 Визуализация нейронных сетей"
   ]
  },
  {
   "cell_type": "code",
   "execution_count": 7,
   "metadata": {},
   "outputs": [
    {
     "data": {
      "image/svg+xml": [
       "<svg height=\"304pt\" viewBox=\"0.00 0.00 320.00 304.00\" width=\"320pt\" xmlns=\"http://www.w3.org/2000/svg\" xmlns:xlink=\"http://www.w3.org/1999/xlink\">\n",
       "<g class=\"graph\" id=\"graph0\" transform=\"scale(1 1) rotate(0) translate(4 300)\">\n",
       "<title>G</title>\n",
       "<polygon fill=\"white\" points=\"-4,4 -4,-300 316,-300 316,4 -4,4\" stroke=\"none\"/>\n",
       "<!-- 1824514734792 -->\n",
       "<g class=\"node\" id=\"node1\"><title>1824514734792</title>\n",
       "<polygon fill=\"none\" points=\"0,-249.5 0,-295.5 312,-295.5 312,-249.5 0,-249.5\" stroke=\"black\"/>\n",
       "<text font-family=\"Times New Roman,serif\" font-size=\"14.00\" text-anchor=\"middle\" x=\"89.5\" y=\"-268.8\">dense_124_input: InputLayer</text>\n",
       "<polyline fill=\"none\" points=\"179,-249.5 179,-295.5 \" stroke=\"black\"/>\n",
       "<text font-family=\"Times New Roman,serif\" font-size=\"14.00\" text-anchor=\"middle\" x=\"207\" y=\"-280.3\">input:</text>\n",
       "<polyline fill=\"none\" points=\"179,-272.5 235,-272.5 \" stroke=\"black\"/>\n",
       "<text font-family=\"Times New Roman,serif\" font-size=\"14.00\" text-anchor=\"middle\" x=\"207\" y=\"-257.3\">output:</text>\n",
       "<polyline fill=\"none\" points=\"235,-249.5 235,-295.5 \" stroke=\"black\"/>\n",
       "<text font-family=\"Times New Roman,serif\" font-size=\"14.00\" text-anchor=\"middle\" x=\"273.5\" y=\"-280.3\">(None, 10)</text>\n",
       "<polyline fill=\"none\" points=\"235,-272.5 312,-272.5 \" stroke=\"black\"/>\n",
       "<text font-family=\"Times New Roman,serif\" font-size=\"14.00\" text-anchor=\"middle\" x=\"273.5\" y=\"-257.3\">(None, 10)</text>\n",
       "</g>\n",
       "<!-- 1824514734960 -->\n",
       "<g class=\"node\" id=\"node2\"><title>1824514734960</title>\n",
       "<polygon fill=\"none\" points=\"30.5,-166.5 30.5,-212.5 281.5,-212.5 281.5,-166.5 30.5,-166.5\" stroke=\"black\"/>\n",
       "<text font-family=\"Times New Roman,serif\" font-size=\"14.00\" text-anchor=\"middle\" x=\"89.5\" y=\"-185.8\">dense_124: Dense</text>\n",
       "<polyline fill=\"none\" points=\"148.5,-166.5 148.5,-212.5 \" stroke=\"black\"/>\n",
       "<text font-family=\"Times New Roman,serif\" font-size=\"14.00\" text-anchor=\"middle\" x=\"176.5\" y=\"-197.3\">input:</text>\n",
       "<polyline fill=\"none\" points=\"148.5,-189.5 204.5,-189.5 \" stroke=\"black\"/>\n",
       "<text font-family=\"Times New Roman,serif\" font-size=\"14.00\" text-anchor=\"middle\" x=\"176.5\" y=\"-174.3\">output:</text>\n",
       "<polyline fill=\"none\" points=\"204.5,-166.5 204.5,-212.5 \" stroke=\"black\"/>\n",
       "<text font-family=\"Times New Roman,serif\" font-size=\"14.00\" text-anchor=\"middle\" x=\"243\" y=\"-197.3\">(None, 10)</text>\n",
       "<polyline fill=\"none\" points=\"204.5,-189.5 281.5,-189.5 \" stroke=\"black\"/>\n",
       "<text font-family=\"Times New Roman,serif\" font-size=\"14.00\" text-anchor=\"middle\" x=\"243\" y=\"-174.3\">(None, 16)</text>\n",
       "</g>\n",
       "<!-- 1824514734792&#45;&gt;1824514734960 -->\n",
       "<g class=\"edge\" id=\"edge1\"><title>1824514734792-&gt;1824514734960</title>\n",
       "<path d=\"M156,-249.366C156,-241.152 156,-231.658 156,-222.725\" fill=\"none\" stroke=\"black\"/>\n",
       "<polygon fill=\"black\" points=\"159.5,-222.607 156,-212.607 152.5,-222.607 159.5,-222.607\" stroke=\"black\"/>\n",
       "</g>\n",
       "<!-- 1824514734736 -->\n",
       "<g class=\"node\" id=\"node3\"><title>1824514734736</title>\n",
       "<polygon fill=\"none\" points=\"30.5,-83.5 30.5,-129.5 281.5,-129.5 281.5,-83.5 30.5,-83.5\" stroke=\"black\"/>\n",
       "<text font-family=\"Times New Roman,serif\" font-size=\"14.00\" text-anchor=\"middle\" x=\"89.5\" y=\"-102.8\">dense_125: Dense</text>\n",
       "<polyline fill=\"none\" points=\"148.5,-83.5 148.5,-129.5 \" stroke=\"black\"/>\n",
       "<text font-family=\"Times New Roman,serif\" font-size=\"14.00\" text-anchor=\"middle\" x=\"176.5\" y=\"-114.3\">input:</text>\n",
       "<polyline fill=\"none\" points=\"148.5,-106.5 204.5,-106.5 \" stroke=\"black\"/>\n",
       "<text font-family=\"Times New Roman,serif\" font-size=\"14.00\" text-anchor=\"middle\" x=\"176.5\" y=\"-91.3\">output:</text>\n",
       "<polyline fill=\"none\" points=\"204.5,-83.5 204.5,-129.5 \" stroke=\"black\"/>\n",
       "<text font-family=\"Times New Roman,serif\" font-size=\"14.00\" text-anchor=\"middle\" x=\"243\" y=\"-114.3\">(None, 16)</text>\n",
       "<polyline fill=\"none\" points=\"204.5,-106.5 281.5,-106.5 \" stroke=\"black\"/>\n",
       "<text font-family=\"Times New Roman,serif\" font-size=\"14.00\" text-anchor=\"middle\" x=\"243\" y=\"-91.3\">(None, 16)</text>\n",
       "</g>\n",
       "<!-- 1824514734960&#45;&gt;1824514734736 -->\n",
       "<g class=\"edge\" id=\"edge2\"><title>1824514734960-&gt;1824514734736</title>\n",
       "<path d=\"M156,-166.366C156,-158.152 156,-148.658 156,-139.725\" fill=\"none\" stroke=\"black\"/>\n",
       "<polygon fill=\"black\" points=\"159.5,-139.607 156,-129.607 152.5,-139.607 159.5,-139.607\" stroke=\"black\"/>\n",
       "</g>\n",
       "<!-- 1824514736080 -->\n",
       "<g class=\"node\" id=\"node4\"><title>1824514736080</title>\n",
       "<polygon fill=\"none\" points=\"30.5,-0.5 30.5,-46.5 281.5,-46.5 281.5,-0.5 30.5,-0.5\" stroke=\"black\"/>\n",
       "<text font-family=\"Times New Roman,serif\" font-size=\"14.00\" text-anchor=\"middle\" x=\"89.5\" y=\"-19.8\">dense_126: Dense</text>\n",
       "<polyline fill=\"none\" points=\"148.5,-0.5 148.5,-46.5 \" stroke=\"black\"/>\n",
       "<text font-family=\"Times New Roman,serif\" font-size=\"14.00\" text-anchor=\"middle\" x=\"176.5\" y=\"-31.3\">input:</text>\n",
       "<polyline fill=\"none\" points=\"148.5,-23.5 204.5,-23.5 \" stroke=\"black\"/>\n",
       "<text font-family=\"Times New Roman,serif\" font-size=\"14.00\" text-anchor=\"middle\" x=\"176.5\" y=\"-8.3\">output:</text>\n",
       "<polyline fill=\"none\" points=\"204.5,-0.5 204.5,-46.5 \" stroke=\"black\"/>\n",
       "<text font-family=\"Times New Roman,serif\" font-size=\"14.00\" text-anchor=\"middle\" x=\"243\" y=\"-31.3\">(None, 16)</text>\n",
       "<polyline fill=\"none\" points=\"204.5,-23.5 281.5,-23.5 \" stroke=\"black\"/>\n",
       "<text font-family=\"Times New Roman,serif\" font-size=\"14.00\" text-anchor=\"middle\" x=\"243\" y=\"-8.3\">(None, 1)</text>\n",
       "</g>\n",
       "<!-- 1824514734736&#45;&gt;1824514736080 -->\n",
       "<g class=\"edge\" id=\"edge3\"><title>1824514734736-&gt;1824514736080</title>\n",
       "<path d=\"M156,-83.3664C156,-75.1516 156,-65.6579 156,-56.7252\" fill=\"none\" stroke=\"black\"/>\n",
       "<polygon fill=\"black\" points=\"159.5,-56.6068 156,-46.6068 152.5,-56.6069 159.5,-56.6068\" stroke=\"black\"/>\n",
       "</g>\n",
       "</g>\n",
       "</svg>"
      ],
      "text/plain": [
       "<IPython.core.display.SVG object>"
      ]
     },
     "execution_count": 7,
     "metadata": {},
     "output_type": "execute_result"
    }
   ],
   "source": [
    "# Загрузить библиотеки\n",
    "from keras import models\n",
    "from keras import layers\n",
    "from IPython.display import SVG\n",
    "from keras.utils.vis_utils import model_to_dot\n",
    "from keras.utils import plot_model\n",
    "\n",
    "# Инициализировать нейронную сеть\n",
    "network = models.Sequential()\n",
    "\n",
    "# Добавить полносвязный слой с активационной функцией ReLU\n",
    "network.add(layers.Dense(units=16, activation=\"relu\", input_shape=(10,)))\n",
    "\n",
    "# Добавить полносвязный слой с активационной функцией ReLU\n",
    "network.add(layers.Dense(units=16, activation=\"relu\"))\n",
    "\n",
    "# Добавить полносвязный слой с сигмоидальной активационной функцией\n",
    "network.add(layers.Dense(units=1, activation=\"sigmoid\"))\n",
    "\n",
    "# Визуализировать сетевую архитектуру\n",
    "SVG(model_to_dot(network, show_shapes=True).create(prog=\"dot\", format=\"svg\"))"
   ]
  },
  {
   "cell_type": "code",
   "execution_count": null,
   "metadata": {},
   "outputs": [],
   "source": [
    "# Сохранить визуализацию в виде файла\n",
    "plot_model(network, show_shapes=True, to_file=\"network.png\")"
   ]
  },
  {
   "cell_type": "code",
   "execution_count": 8,
   "metadata": {},
   "outputs": [
    {
     "data": {
      "image/svg+xml": [
       "<svg height=\"264pt\" viewBox=\"0.00 0.00 187.00 264.00\" width=\"187pt\" xmlns=\"http://www.w3.org/2000/svg\" xmlns:xlink=\"http://www.w3.org/1999/xlink\">\n",
       "<g class=\"graph\" id=\"graph0\" transform=\"scale(1 1) rotate(0) translate(4 260)\">\n",
       "<title>G</title>\n",
       "<polygon fill=\"white\" points=\"-4,4 -4,-260 183,-260 183,4 -4,4\" stroke=\"none\"/>\n",
       "<!-- 1824514734792 -->\n",
       "<g class=\"node\" id=\"node1\"><title>1824514734792</title>\n",
       "<polygon fill=\"none\" points=\"0,-219.5 0,-255.5 179,-255.5 179,-219.5 0,-219.5\" stroke=\"black\"/>\n",
       "<text font-family=\"Times New Roman,serif\" font-size=\"14.00\" text-anchor=\"middle\" x=\"89.5\" y=\"-233.8\">dense_124_input: InputLayer</text>\n",
       "</g>\n",
       "<!-- 1824514734960 -->\n",
       "<g class=\"node\" id=\"node2\"><title>1824514734960</title>\n",
       "<polygon fill=\"none\" points=\"30.5,-146.5 30.5,-182.5 148.5,-182.5 148.5,-146.5 30.5,-146.5\" stroke=\"black\"/>\n",
       "<text font-family=\"Times New Roman,serif\" font-size=\"14.00\" text-anchor=\"middle\" x=\"89.5\" y=\"-160.8\">dense_124: Dense</text>\n",
       "</g>\n",
       "<!-- 1824514734792&#45;&gt;1824514734960 -->\n",
       "<g class=\"edge\" id=\"edge1\"><title>1824514734792-&gt;1824514734960</title>\n",
       "<path d=\"M89.5,-219.313C89.5,-211.289 89.5,-201.547 89.5,-192.569\" fill=\"none\" stroke=\"black\"/>\n",
       "<polygon fill=\"black\" points=\"93.0001,-192.529 89.5,-182.529 86.0001,-192.529 93.0001,-192.529\" stroke=\"black\"/>\n",
       "</g>\n",
       "<!-- 1824514734736 -->\n",
       "<g class=\"node\" id=\"node3\"><title>1824514734736</title>\n",
       "<polygon fill=\"none\" points=\"30.5,-73.5 30.5,-109.5 148.5,-109.5 148.5,-73.5 30.5,-73.5\" stroke=\"black\"/>\n",
       "<text font-family=\"Times New Roman,serif\" font-size=\"14.00\" text-anchor=\"middle\" x=\"89.5\" y=\"-87.8\">dense_125: Dense</text>\n",
       "</g>\n",
       "<!-- 1824514734960&#45;&gt;1824514734736 -->\n",
       "<g class=\"edge\" id=\"edge2\"><title>1824514734960-&gt;1824514734736</title>\n",
       "<path d=\"M89.5,-146.313C89.5,-138.289 89.5,-128.547 89.5,-119.569\" fill=\"none\" stroke=\"black\"/>\n",
       "<polygon fill=\"black\" points=\"93.0001,-119.529 89.5,-109.529 86.0001,-119.529 93.0001,-119.529\" stroke=\"black\"/>\n",
       "</g>\n",
       "<!-- 1824514736080 -->\n",
       "<g class=\"node\" id=\"node4\"><title>1824514736080</title>\n",
       "<polygon fill=\"none\" points=\"30.5,-0.5 30.5,-36.5 148.5,-36.5 148.5,-0.5 30.5,-0.5\" stroke=\"black\"/>\n",
       "<text font-family=\"Times New Roman,serif\" font-size=\"14.00\" text-anchor=\"middle\" x=\"89.5\" y=\"-14.8\">dense_126: Dense</text>\n",
       "</g>\n",
       "<!-- 1824514734736&#45;&gt;1824514736080 -->\n",
       "<g class=\"edge\" id=\"edge3\"><title>1824514734736-&gt;1824514736080</title>\n",
       "<path d=\"M89.5,-73.3129C89.5,-65.2895 89.5,-55.5475 89.5,-46.5691\" fill=\"none\" stroke=\"black\"/>\n",
       "<polygon fill=\"black\" points=\"93.0001,-46.5288 89.5,-36.5288 86.0001,-46.5289 93.0001,-46.5288\" stroke=\"black\"/>\n",
       "</g>\n",
       "</g>\n",
       "</svg>"
      ],
      "text/plain": [
       "<IPython.core.display.SVG object>"
      ]
     },
     "execution_count": 8,
     "metadata": {},
     "output_type": "execute_result"
    }
   ],
   "source": [
    "# Визуализировать сетевую архитектуру\n",
    "SVG(model_to_dot(network, show_shapes=False).create(prog=\"dot\", format=\"svg\"))"
   ]
  },
  {
   "cell_type": "code",
   "execution_count": null,
   "metadata": {},
   "outputs": [],
   "source": [
    "# Сохранить визуализацию в виде файла\n",
    "plot_model(network, show_shapes=False, to_file=\"network.png\")"
   ]
  },
  {
   "cell_type": "markdown",
   "metadata": {},
   "source": [
    "> <b>20.15 Классификация изображений"
   ]
  },
  {
   "cell_type": "code",
   "execution_count": null,
   "metadata": {},
   "outputs": [],
   "source": [
    "# Загрузить библиотеки\n",
    "import numpy as np\n",
    "from keras.datasets import mnist\n",
    "from keras.models import Sequential\n",
    "from keras.layers import Dense, Dropout, Flatten\n",
    "from keras.layers.convolutional import Conv2D, MaxPooling2D\n",
    "from keras.utils import np_utils\n",
    "from keras import backend as K\n",
    "\n",
    "# Сделать значение цветового канала первым\n",
    "K.set_image_data_format(\"channels_first\")\n",
    "\n",
    "# Задать начальное значение для ГПСЧ\n",
    "np.random.seed(0)\n",
    "\n",
    "# Задать информацию об изображении\n",
    "channels = 1\n",
    "height = 28\n",
    "width = 28\n",
    "\n",
    "# Загрузить данные и цель из набора данных MNIST рукописных цифр  \n",
    "(data_train, target_train), (data_test, target_test) = mnist.load_data()\n",
    "\n",
    "# Реформировать тренировочные данные об изображениях в признаки\n",
    "data_train = data_train.reshape(data_train.shape[0], channels, height, width)\n",
    "\n",
    "# Реформировать тестовые данные об изображениях в признаки\n",
    "data_test = data_test.reshape(data_test.shape[0], channels, height, width)\n",
    "\n",
    "# Прошкалировать пиксельную интенсивность в диапазон между 0 и 1\n",
    "features_train = data_train / 255\n",
    "features_test = data_test / 255\n",
    "\n",
    "# Преобразовать цель в кодировку с одним активным состоянием\n",
    "target_train = np_utils.to_categorical(target_train)\n",
    "target_test = np_utils.to_categorical(target_test)\n",
    "number_of_classes = target_test.shape[1]\n",
    "\n",
    "# Инициализировать нейронную сеть\n",
    "network = Sequential()\n",
    "\n",
    "# Добавить сверточный слой с 64 фильтрами, окном 5x5 и \n",
    "# активационной функций ReLU\n",
    "network.add(Conv2D(filters=64,\n",
    "                   kernel_size=(5, 5),\n",
    "                   input_shape=(channels, width, height),\n",
    "                   activation='relu'))\n",
    "\n",
    "# Добавить максимально редуцирующий слой с окном 2x2\n",
    "network.add(MaxPooling2D(pool_size=(2, 2)))\n",
    "\n",
    "# Добавить отсеивающий слой\n",
    "network.add(Dropout(0.5))\n",
    "\n",
    "# Добавить слой для сглаживания входа\n",
    "network.add(Flatten())\n",
    "\n",
    "# Добавить полносвязный слой из 128 блоков с\n",
    "# активационной функций ReLU\n",
    "network.add(Dense(128, activation=\"relu\"))\n",
    "\n",
    "# Добавить отсеивающий слой\n",
    "network.add(Dropout(0.5))\n",
    "\n",
    "# Добавить полносвязный слой c\n",
    "# активационной функцией softmax\n",
    "network.add(Dense(number_of_classes, activation=\"softmax\"))\n",
    "\n",
    "# Скомплировать нейронную сеть\n",
    "network.compile(\n",
    "    loss=\"categorical_crossentropy\", # Перекрестная энтропия\n",
    "    optimizer=\"rmsprop\",  # Распространение СКО\n",
    "    metrics=[\"accuracy\"]) # Точностный показатель результативности\n",
    "\n",
    "# Натренировать нейронную сеть\n",
    "network.fit(\n",
    "    features_train,  # Признаки\n",
    "    target_train,    # Цель\n",
    "    epochs=2,        # Количество эпох\n",
    "    verbose=0,       # Не печатать описание после каждой эпохи\n",
    "    batch_size=1000, # Количество наблюдений на пакет\n",
    "    validation_data=(features_test, target_test)) # Данные для оценивания"
   ]
  },
  {
   "cell_type": "markdown",
   "metadata": {},
   "source": [
    "> <b>20.16 Улучшение результативности с помощью расширения изображения"
   ]
  },
  {
   "cell_type": "code",
   "execution_count": null,
   "metadata": {},
   "outputs": [],
   "source": [
    "# Загрузить библиотеку\n",
    "from keras.preprocessing.image import ImageDataGenerator\n",
    "\n",
    "# Создать объект расширения изображения\n",
    "augmentation = ImageDataGenerator(\n",
    "    featurewise_center=True, # Применить отбеливание ZCA \n",
    "    zoom_range=0.3,          # Случайно приблизить изображения\n",
    "    width_shift_range=0.2,   # Случайно сместить изображения\n",
    "    horizontal_flip=True,    # Случайно перевернуть изображения\n",
    "    rotation_range=90)       # Случайно повернуть изображения\n",
    "\n",
    "# Обработать все изображения из каталога 'raw/images'\n",
    "augment_images = augmentation.flow_from_directory(\n",
    "                                  \"raw/images\",  # Папка с изображениями\n",
    "                                  batch_size=32, # Размер пакета\n",
    "                                  class_mode=\"binary\", # Классы\n",
    "                                  save_to_dir=\"processed/images\")"
   ]
  },
  {
   "cell_type": "code",
   "execution_count": null,
   "metadata": {},
   "outputs": [],
   "source": [
    "# Натренировать нейронную сеть\n",
    "network.fit_generator(\n",
    "    augment_images,\n",
    "    steps_per_epoch=2000, # Количество вызовов генератора для каждой эпохи\n",
    "    epochs=5,             # Количество эпох\n",
    "    validation_data=augment_images_test, # Генератор тестовых данных\n",
    "    validation_steps=800) # Количество вызовов генератора \n",
    "                          # для каждой тестовой эпохи"
   ]
  },
  {
   "cell_type": "markdown",
   "metadata": {},
   "source": [
    "> <b>20.17 Классификация текста"
   ]
  },
  {
   "cell_type": "code",
   "execution_count": 9,
   "metadata": {},
   "outputs": [],
   "source": [
    "# Загрузить библиотеки\n",
    "import numpy as np\n",
    "from keras.datasets import imdb\n",
    "from keras.preprocessing import sequence\n",
    "from keras import models\n",
    "from keras import layers\n",
    "\n",
    "# Задать начальное значение для ГПСЧ\n",
    "np.random.seed(0)\n",
    "\n",
    "# Задать желаемое количество признаков\n",
    "number_of_features = 1000\n",
    "\n",
    "# Загрузить данные и вектор целей из данных с отзывами о кинофильмах\n",
    "(data_train, target_train), (data_test, target_test) = imdb.load_data(\n",
    "    num_words=number_of_features)\n",
    "\n",
    "# Использовать дополнение и усечение, \n",
    "# чтобы каждое наблюдение имело 400 признаков\n",
    "features_train = sequence.pad_sequences(data_train, maxlen=400)\n",
    "features_test = sequence.pad_sequences(data_test, maxlen=400)\n",
    "\n",
    "# Инициализировать нейронную сеть\n",
    "network = models.Sequential()\n",
    "\n",
    "# Добавить встраивающий слой\n",
    "network.add(layers.Embedding(input_dim=number_of_features, output_dim=128))\n",
    "\n",
    "# Добавить слой длинной краткосрочной памяти с 128 блоками\n",
    "network.add(layers.LSTM(units=128))\n",
    "\n",
    "# Добавить полносвязный слой с сигмоидальной активационной функцией\n",
    "network.add(layers.Dense(units=1, activation=\"sigmoid\"))\n",
    "\n",
    "# Скомпилировать нейронную сеть\n",
    "network.compile(\n",
    "    loss=\"binary_crossentropy\", # Перекрестная энтропия\n",
    "    optimizer=\"Adam\",           # Оптимизация Adam\n",
    "    metrics=[\"accuracy\"]) # Точностный показатель результативности\n",
    "\n",
    "# Натренировать нейронную сеть\n",
    "history = network.fit(\n",
    "    features_train,  # Признаки\n",
    "    target_train,    # Цель\n",
    "    epochs=3,        # Количество эпох\n",
    "    verbose=0,       # Не печатать описание после каждой эпохи\n",
    "    batch_size=1000, # Количество наблюдений на пакет\n",
    "    validation_data=(features_test, target_test)) # Тестовые данные"
   ]
  },
  {
   "cell_type": "code",
   "execution_count": 10,
   "metadata": {},
   "outputs": [
    {
     "name": "stdout",
     "output_type": "stream",
     "text": [
      "[1, 14, 22, 16, 43, 530, 973, 2, 2, 65, 458, 2, 66, 2, 4, 173, 36, 256, 5, 25, 100, 43, 838, 112, 50, 670, 2, 9, 35, 480, 284, 5, 150, 4, 172, 112, 167, 2, 336, 385, 39, 4, 172, 2, 2, 17, 546, 38, 13, 447, 4, 192, 50, 16, 6, 147, 2, 19, 14, 22, 4, 2, 2, 469, 4, 22, 71, 87, 12, 16, 43, 530, 38, 76, 15, 13, 2, 4, 22, 17, 515, 17, 12, 16, 626, 18, 2, 5, 62, 386, 12, 8, 316, 8, 106, 5, 4, 2, 2, 16, 480, 66, 2, 33, 4, 130, 12, 16, 38, 619, 5, 25, 124, 51, 36, 135, 48, 25, 2, 33, 6, 22, 12, 215, 28, 77, 52, 5, 14, 407, 16, 82, 2, 8, 4, 107, 117, 2, 15, 256, 4, 2, 7, 2, 5, 723, 36, 71, 43, 530, 476, 26, 400, 317, 46, 7, 4, 2, 2, 13, 104, 88, 4, 381, 15, 297, 98, 32, 2, 56, 26, 141, 6, 194, 2, 18, 4, 226, 22, 21, 134, 476, 26, 480, 5, 144, 30, 2, 18, 51, 36, 28, 224, 92, 25, 104, 4, 226, 65, 16, 38, 2, 88, 12, 16, 283, 5, 16, 2, 113, 103, 32, 15, 16, 2, 19, 178, 32]\n"
     ]
    }
   ],
   "source": [
    "# Взглянуть на первое наблюдение\n",
    "print(data_train[0])"
   ]
  },
  {
   "cell_type": "code",
   "execution_count": 11,
   "metadata": {},
   "outputs": [
    {
     "name": "stdout",
     "output_type": "stream",
     "text": [
      "[  0   0   0   0   0   0   0   0   0   0   0   0   0   0   0   0   0   0\n",
      "   0   0   0   0   0   0   0   0   0   0   0   0   0   0   0   0   0   0\n",
      "   0   0   0   0   0   0   0   0   0   0   0   0   0   0   0   0   0   0\n",
      "   0   0   0   0   0   0   0   0   0   0   0   0   0   0   0   0   0   0\n",
      "   0   0   0   0   0   0   0   0   0   0   0   0   0   0   0   0   0   0\n",
      "   0   0   0   0   0   0   0   0   0   0   0   0   0   0   0   0   0   0\n",
      "   0   0   0   0   0   0   0   0   0   0   0   0   0   0   0   0   0   0\n",
      "   0   0   0   0   0   0   0   0   0   0   0   0   0   0   0   0   0   0\n",
      "   0   0   0   0   0   0   0   0   0   0   0   0   0   0   0   0   0   0\n",
      "   0   0   0   0   0   0   0   0   0   0   0   0   0   0   0   0   0   0\n",
      "   0   0   0   0   0   0   0   0   0   0   0   0   0   0   0   0   0   0\n",
      "   0   0   0   0   0   0   0   0   0   0   0   0   0   0   0   0   0   0\n",
      "   0   0   0   0   0   0   0   0   0   0   0   0   0   0   0   0   0   0\n",
      "   0   0   0   0   0   0   0   0   0   0   0   0   0   0   0   0   0   0\n",
      "   0   0   0   0   0   0   0   0   0   0   0   0   0   0   0   0   0   0\n",
      "   0   0   0   0   0   0   0   0   0   0   0   0   0   0   0   0   0   0\n",
      "   0   0   0   0   0   0   0   0   0   0   0   0   0   0   0   0   0   0\n",
      "   0   0   0   0   0   0   0   0   0   0   0   0   0   0   0   0   0   0\n",
      "   0   0   0   0   0   0   0   0   1 591 202  14  31   6 717  10  10   2\n",
      "   2   5   4 360   7   4 177   2 394 354   4 123   9   2   2   2  10  10\n",
      "  13  92 124  89 488   2 100  28   2  14  31  23  27   2  29 220 468   8\n",
      " 124  14 286 170   8 157  46   5  27 239  16 179   2  38  32  25   2 451\n",
      " 202  14   6 717]\n"
     ]
    }
   ],
   "source": [
    "# Взглянуть на первое наблюдение\n",
    "print(features_test[0])"
   ]
  },
  {
   "cell_type": "code",
   "execution_count": null,
   "metadata": {},
   "outputs": [],
   "source": []
  }
 ],
 "metadata": {
  "kernelspec": {
   "display_name": "Python 3",
   "language": "python",
   "name": "python3"
  },
  "language_info": {
   "codemirror_mode": {
    "name": "ipython",
    "version": 3
   },
   "file_extension": ".py",
   "mimetype": "text/x-python",
   "name": "python",
   "nbconvert_exporter": "python",
   "pygments_lexer": "ipython3",
   "version": "3.6.4"
  }
 },
 "nbformat": 4,
 "nbformat_minor": 2
}
